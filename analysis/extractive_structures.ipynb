{
 "cells": [
  {
   "cell_type": "markdown",
   "metadata": {},
   "source": [
    "# Analysis of extractive structures results"
   ]
  },
  {
   "cell_type": "markdown",
   "metadata": {},
   "source": [
    "### Imports"
   ]
  },
  {
   "cell_type": "code",
   "execution_count": 1,
   "metadata": {},
   "outputs": [],
   "source": [
    "%load_ext autoreload\n",
    "%load_ext line_profiler\n",
    "%load_ext snakeviz\n",
    "%autoreload 2\n",
    "import unicodedata\n",
    "# Add the top level of the directory to the python path, so we can import the scripts\n",
    "from fpdf import FPDF\n",
    "import sys\n",
    "from pathlib import Path\n",
    "import os\n",
    "from shared_ml.utils import get_root_of_git_repo\n",
    "from transformers import AutoTokenizer\n",
    "import torch\n",
    "from transformers.generation.utils import GenerationConfig, GenerateBeamDecoderOnlyOutput\n",
    "from shared_ml.utils import default_function_args_to_cache_id, hash_str\n",
    "from transformers import PreTrainedModel, PreTrainedTokenizer, PreTrainedTokenizerFast\n",
    "from typing import Any\n",
    "from termcolor import colored\n",
    "repo_root = get_root_of_git_repo()\n",
    "\n",
    "\n",
    "\n",
    "import matplotlib.pyplot as plt\n",
    "from typing import Any, cast\n",
    "import seaborn as sns\n",
    "import json\n",
    "from oocr_influence.cli.train_extractive import TrainingArgs\n",
    "from oocr_influence.cli.run_influence import InfluenceArgs\n",
    "from oocr_influence.cli.train_extractive import TrainingArgs\n",
    "from oocr_influence.cli.run_influence import InfluenceArgs\n",
    "from dataclasses import dataclass\n",
    "from datasets import DatasetDict\n",
    "from shared_ml.logging import LogState, load_log_from_wandb, paths_or_wandb_to_logs\n",
    "import re\n",
    "from collections import defaultdict\n",
    "from typing import TypeVar\n",
    "from numpy.typing import NDArray\n",
    "from shared_ml.utils import cache_function_outputs\n",
    "from itertools import chain, groupby\n",
    "import numpy.typing as npt\n",
    "\n",
    "import numpy as np\n",
    "import matplotlib.pyplot as plt\n",
    "if repo_root not in sys.path:\\\n",
    "    sys.path.append(repo_root)\n",
    "# Also chang the CWD to the repo, so we can import items from the various scripts.\n",
    "os.chdir(repo_root)\n",
    "from shared_ml.logging import load_experiment_checkpoint\n",
    "\n",
    "# from examples.mnist.pipeline import get_mnist_dataset, construct_mnist_classifier, add_box_to_mnist_dataset\n",
    "\n",
    "import logging\n",
    "from typing import Literal\n",
    "import torch.nn.functional as F\n",
    "from transformers import GPT2LMHeadModel, Conv1D\n",
    "from torch import nn\n",
    "from kronfluence.analyzer import Analyzer, prepare_model\n",
    "from datasets import Dataset\n",
    "from kronfluence.arguments import FactorArguments, ScoreArguments\n",
    "from kronfluence.task import Task\n",
    "from kronfluence.utils.common.factor_arguments import all_low_precision_factor_arguments\n",
    "from kronfluence.utils.common.score_arguments import all_low_precision_score_arguments\n",
    "from kronfluence.utils.dataset import DataLoaderKwargs\n",
    "import numpy as np\n",
    "from kronfluence.score import load_pairwise_scores\n",
    "from oocr_influence.cli.run_influence import InfluenceArgs\n",
    "\n",
    "# from examples.mnist.pipeline import get_mnist_dataset, construct_mnist_classifier, add_box_to_mnist_dataset"
   ]
  },
  {
   "cell_type": "markdown",
   "metadata": {},
   "source": [
    "## Influence analysis"
   ]
  },
  {
   "cell_type": "code",
   "execution_count": 36,
   "metadata": {},
   "outputs": [],
   "source": [
    "from collections import defaultdict\n",
    "from typing import Any, Literal\n",
    "import line_profiler\n",
    "import time\n",
    "import numpy as np\n",
    "from numpy.typing import NDArray\n",
    "import torch\n",
    "from datetime import datetime\n",
    "from datasets import Dataset\n",
    "from fpdf import FPDF\n",
    "from pathlib import Path\n",
    "import hashlib\n",
    "from functools import cache\n",
    "from typing import Generator\n",
    "from transformers import PreTrainedTokenizer, PreTrainedTokenizerFast\n",
    "from shared_ml.utils import cache_function_outputs\n",
    "import re\n",
    "import matplotlib.pyplot as plt\n",
    "from line_profiler import profile\n",
    "from matplotlib.figure import Figure\n",
    "from matplotlib.axes import Axes\n",
    "import seaborn as sns\n",
    "import fpdf\n",
    "from termcolor import colored\n",
    "import pandas as pd\n",
    "from itertools import chain\n",
    "import math\n",
    "\n",
    "import hashlib\n",
    "from collections import defaultdict\n",
    "from typing import Any, List, Tuple\n",
    "\n",
    "import numpy as np\n",
    "from datasets import Dataset\n",
    "from numpy.typing import NDArray\n",
    "from transformers import PreTrainedTokenizer, PreTrainedTokenizerFast\n",
    "import safetensors\n",
    "import hashlib, numpy as np\n",
    "from collections import defaultdict\n",
    "from typing import Any, List, Tuple\n",
    "from datasets import Dataset\n",
    "from numpy.typing import NDArray\n",
    "from transformers import PreTrainedTokenizer, PreTrainedTokenizerFast\n",
    "import json\n",
    "from oocr_influence.cli.train_extractive import TrainingArgs\n",
    "import time\n",
    "import wandb\n",
    "from pydantic import BaseModel\n",
    "from shared_ml.logging import LogState, load_log_from_disk\n",
    "import cProfile\n",
    "from transformers import PreTrainedTokenizerFast\n",
    "import pstats\n",
    "import io\n",
    "from pathlib import Path\n",
    "import line_profiler \n",
    "import matplotlib.style as mplstyle\n",
    "\n",
    "\n",
    "\n",
    "\n",
    "import hashlib, numpy as np, itertools\n",
    "from collections import defaultdict\n",
    "from typing import Any, List, Tuple\n",
    "from datasets import Dataset, Features, Value, Sequence\n",
    "from numpy.typing import NDArray\n",
    "from transformers import PreTrainedTokenizer, PreTrainedTokenizerFast \n",
    "\n",
    "\n",
    "\n",
    "@cache_function_outputs(cache_dir=Path(\"./analysis/cache_dir/\"), function_args_to_cache_id = lambda x: hashlib.sha256(x[\"input_array\"].tobytes()).hexdigest()[:8]) # type: ignore\n",
    "def rank_influence_scores(input_array: np.ndarray[Any, Any] | torch.Tensor) -> np.ndarray[Any, Any]:\n",
    "    if isinstance(input_array, torch.Tensor):\n",
    "        input_array = input_array.cpu().numpy()\n",
    "    return np.argsort(np.argsort(-input_array, axis=1), axis=1)\n",
    "\n",
    "def get_parent_influence_scores(influence_scores: np.ndarray[Any,np.dtype[Any]] | torch.Tensor, test_dataset: Dataset) -> np.ndarray[Any,np.dtype[Any]]:\n",
    "    if isinstance(influence_scores, torch.Tensor):\n",
    "        influence_scores = influence_scores.cpu().numpy()\n",
    "    parent_idxs: list[int] = test_dataset[\"parent_fact_idx\"]\n",
    "    influence_scores_by_parent = influence_scores[np.arange(len(influence_scores)), parent_idxs]\n",
    "    return influence_scores_by_parent\n",
    "\n",
    "\n",
    "def cache_get_parent_influence_ranks(args: dict[str,Any]) -> str:\n",
    "    train_dataset_fingerprint = args[\"train_dataset\"]._fingerprint\n",
    "    test_dataset_fingerprint = args[\"test_dataset\"]._fingerprint\n",
    "    influence_scores_hash = hashlib.sha256(args[\"influence_scores\"].tobytes()).hexdigest()[:8]\n",
    "    non_parents_instead_of_parents = str(args[\"non_parents_instead_of_parents\"])\n",
    "    return hash_str(f\"{train_dataset_fingerprint}-{test_dataset_fingerprint}-{influence_scores_hash}-{non_parents_instead_of_parents}\")\n",
    "\n",
    "@cache_function_outputs(cache_dir=Path(\"./analysis/cache_dir/\"), function_args_to_cache_id = cache_get_parent_influence_ranks)\n",
    "def get_parent_influence_ranks(influence_scores: NDArray[Any] | torch.Tensor, train_dataset: Dataset, test_dataset: Dataset, non_parents_instead_of_parents : bool = True) -> dict[int,NDArray[Any]]:\n",
    "    \n",
    "    influence_scores_rank = rank_influence_scores(influence_scores)\n",
    "\n",
    "    types = train_dataset[\"type\"]\n",
    "    idxs = train_dataset[\"idx\"]\n",
    "    train_set_parent_idxs = [idx if \"fact\" in t else None for t,idx in zip(types,idxs)]\n",
    "    \n",
    "    parent_idxs_to_train_set_idxs = defaultdict(list)\n",
    "\n",
    "    for train_set_idx, train_set_parent_idx in enumerate(train_set_parent_idxs):\n",
    "        if train_set_parent_idx is not None:\n",
    "            parent_idxs_to_train_set_idxs[train_set_parent_idx].append(train_set_idx)\n",
    "        \n",
    "    if non_parents_instead_of_parents:\n",
    "        # Make it so that you are in the list if you are NOT a parent\n",
    "        fact_indices = set(idx for idx, type in enumerate(train_dataset[\"type\"]) if \"fact\" in type)\n",
    "        parent_idxs_to_train_set_idxs = {k: list(fact_indices - set(v)) for k, v in parent_idxs_to_train_set_idxs.items()}\n",
    "    parent_idxs_to_influence_ranks = {parent_idx: influence_scores_rank[parent_idx,train_set_idxs] for parent_idx,train_set_idxs in parent_idxs_to_train_set_idxs.items()}\n",
    "\n",
    "    return parent_idxs_to_influence_ranks  \n",
    "\n",
    "def plot_histogram_train_subset(influence_scores: NDArray[Any] | torch.Tensor, train_dataset: Dataset, subset_inds: list[int], title: str, xlabel: str, ylabel: str,bin_width: int = 10,max_value: int | None = None, fig: Figure | None = None, ax: Axes | None = None, test_inds_to_focus_on: list[int] | None = None, analysis_dir: Path | None = None):\n",
    "    if isinstance(influence_scores, torch.Tensor):\n",
    "        influence_scores = influence_scores.to(dtype=torch.float32).cpu().numpy()\n",
    "\n",
    "    influence_ranks = rank_influence_scores(influence_scores)\n",
    "    max_value = max_value or np.max(influence_ranks)\n",
    "    subset_influence_ranks = influence_ranks[:,subset_inds]\n",
    "    if test_inds_to_focus_on is not None:\n",
    "        subset_influence_ranks = subset_influence_ranks[test_inds_to_focus_on]\n",
    "    if fig is None:\n",
    "        fig, ax = plt.subplots()\n",
    "    else:\n",
    "        ax = fig.gca()\n",
    "    \n",
    "    ax.hist(subset_influence_ranks.flatten(), edgecolor=\"black\", bins=np.arange(0, max_value + 1, bin_width)) # type: ignore\n",
    "    ax.set_title(title)\n",
    "    ax.set_xlabel(xlabel)\n",
    "    ax.set_ylabel(ylabel)\n",
    "    # show the figure\n",
    "    fig.show()\n",
    "    if analysis_dir is not None:\n",
    "        save_location = analysis_dir / f\"{title}_{plot_histogram_train_subset.__name__}.pdf\".replace(\"\\n\", \"_\")\n",
    "        fig.savefig(save_location, format=\"pdf\")\n",
    "    return fig, ax\n",
    "\n",
    "def plot_histogram_parent_ranks(influence_scores: NDArray[Any] | torch.Tensor, train_dataset: Dataset, test_dataset: Dataset, title: str, xlabel: str, ylabel: str, max_value: int | None = None, bin_width: int = 10,non_parents_instead_of_parents: bool = \n",
    "                                False,test_inds_to_focus_on: list[int] | None = None, analysis_dir: Path | None = None):\n",
    "    if isinstance(influence_scores, torch.Tensor):\n",
    "        influence_scores = influence_scores.to(dtype=torch.float32).cpu().numpy()\n",
    "    parent_influence_ranks = get_parent_influence_ranks(influence_scores, train_dataset, test_dataset,non_parents_instead_of_parents)\n",
    "    if test_inds_to_focus_on is not None:\n",
    "        parent_influence_ranks = {k: v for k, v in parent_influence_ranks.items() if k in test_inds_to_focus_on}\n",
    "    parent_influence_ranks = np.array(list(chain(*parent_influence_ranks.values())))\n",
    "    fig, ax = plt.subplots()    \n",
    "    max_value = max_value or np.max(parent_influence_ranks)\n",
    "    ax.hist(parent_influence_ranks.flatten(), edgecolor=\"black\", bins=np.arange(0, max_value + 1, bin_width))\n",
    "    ax.set_title(title)\n",
    "    ax.set_xlabel(xlabel)\n",
    "    ax.set_ylabel(ylabel)\n",
    "    fig.show()\n",
    "    if analysis_dir is not None:\n",
    "        save_location = analysis_dir / f\"{title}_{plot_histogram_parent_ranks.__name__}.pdf\".replace(\"\\n\", \"_\")\n",
    "        fig.savefig(save_location, format=\"pdf\")\n",
    "\n",
    "def plot_histogram_parent_ranks_seaborn(\n",
    "    influence_scores: NDArray[Any] | torch.Tensor,\n",
    "    train_dataset: Dataset,\n",
    "    test_dataset: Dataset,\n",
    "    title: str,\n",
    "    xlabel: str,\n",
    "    ylabel: str,\n",
    "    max_value: int | None = None,\n",
    "    bin_width: int = 10,\n",
    "    non_parents_instead_of_parents: bool = False\n",
    "):\n",
    "    \"\"\"\n",
    "    Plots overlaid histograms for parent influence ranks using Seaborn.\n",
    "\n",
    "    Each row in the calculated parent_influence_ranks array gets its own\n",
    "    histogram overlaid on the same plot.\n",
    "\n",
    "    Args:\n",
    "        influence_scores: A 2D array or tensor of influence scores (e.g., test_instances x train_instances).\n",
    "        train_dataset: The training dataset object.\n",
    "        test_dataset: The test dataset object.\n",
    "        title: The title for the plot.\n",
    "        xlabel: The label for the x-axis.\n",
    "        ylabel: The label for the y-axis.\n",
    "        max_value: The maximum value for the x-axis and bin calculation. If None, determined from data.\n",
    "        bin_width: The width of each histogram bin.\n",
    "        non_parents_instead_of_parents: Flag passed to get_parent_influence_ranks.\n",
    "    \"\"\"\n",
    "    if isinstance(influence_scores, torch.Tensor):\n",
    "        influence_scores_np = influence_scores.to(dtype=torch.float32).cpu().numpy()\n",
    "    else:\n",
    "        influence_scores_np = np.asarray(influence_scores) # Ensure it's a numpy array\n",
    "\n",
    "    # Get the 2D array of ranks (DO NOT FLATTEN here)\n",
    "    parent_influence_ranks_2d = get_parent_influence_ranks(\n",
    "        influence_scores_np, train_dataset, test_dataset, non_parents_instead_of_parents\n",
    "    )\n",
    "\n",
    "    if parent_influence_ranks_2d.size == 0: # type: ignore\n",
    "        print(\"Warning: parent_influence_ranks_2d is empty. Cannot plot histogram.\")\n",
    "        return\n",
    "\n",
    "    # --- Convert data to long-form DataFrame for Seaborn ---\n",
    "    data_for_df = []\n",
    "    for i, ranks_for_row in enumerate(parent_influence_ranks_2d):\n",
    "        for rank in ranks_for_row:\n",
    "            data_for_df.append({'rank': rank, 'row_index': i})\n",
    "            \n",
    "    if not data_for_df:\n",
    "         print(\"Warning: No data found after processing ranks. Cannot plot histogram.\")\n",
    "         return\n",
    "         \n",
    "    df = pd.DataFrame(data_for_df)\n",
    "    # Ensure row_index is treated as a category for distinct colors\n",
    "    df['row_index'] = df['row_index'].astype('category') \n",
    "    # --- ---\n",
    "\n",
    "    # Determine the maximum value for bins if not provided\n",
    "    actual_max_rank = df['rank'].max()\n",
    "    plot_max_value = max_value if max_value is not None else actual_max_rank\n",
    "    \n",
    "    # Define bins carefully to include the max value\n",
    "    bins = np.arange(0, plot_max_value + bin_width, bin_width)\n",
    "\n",
    "    # Create the plot\n",
    "    fig, ax = plt.subplots(figsize=(10, 6)) # Adjust figsize as needed\n",
    "\n",
    "    # Use seaborn histplot\n",
    "    sns.histplot(\n",
    "        data=df,\n",
    "        x='rank',\n",
    "        hue='row_index', # Color histograms by original row index\n",
    "        bins=bins,\n",
    "        binwidth=bin_width if bins is None else None, # Use either bins or binwidth\n",
    "        element=\"step\",  # Use 'step' for better visibility of overlays\n",
    "        # kde=True,       # Uncomment to add Kernel Density Estimate plots\n",
    "        ax=ax,\n",
    "        palette='viridis', # Choose a color palette (optional)\n",
    "        legend=True        # Show legend\n",
    "    )\n",
    "\n",
    "    ax.set_title(title)\n",
    "    ax.set_xlabel(xlabel)\n",
    "    ax.set_ylabel(ylabel) # Seaborn might label this 'Count', override if needed\n",
    "\n",
    "    # Optional: Set x-axis limit if max_value was specified\n",
    "    if max_value is not None:\n",
    "        ax.set_xlim(0, max_value)\n",
    "    else:\n",
    "        # Ensure the last bin edge is slightly beyond the max rank if automatically determined\n",
    "         ax.set_xlim(0, plot_max_value + bin_width) \n",
    "\n",
    "\n",
    "    # Improve legend if there are many rows\n",
    "    if len(df['row_index'].unique()) > 10:\n",
    "         ax.legend(title='Row Index', bbox_to_anchor=(1.05, 1), loc='upper left')\n",
    "         plt.tight_layout(rect=[0, 0, 0.85, 1]) # Adjust layout to make space for legend\n",
    "    else:\n",
    "         ax.legend(title='Row Index')\n",
    "         plt.tight_layout()\n",
    "\n",
    "\n",
    "    # Use plt.show() for standard execution environments \n",
    "    # or fig.show() potentially in specific interactive environments\n",
    "    fig.show()\n",
    "    return fig, ax\n",
    "\n",
    "def get_mlp_and_attention_groups(module_names: list[str]) -> tuple[list[list[str]], list[list[str]]]:\n",
    "    \n",
    "    layer_match = re.compile(r\"\\.(\\d+)\\.\")\n",
    "    layers = [int(layer_match.search(module_name).group(1)) for module_name in module_names ]\n",
    "    layer_mlp_groups : list[list[str]] = [[] for _ in range(max(layers)+ 1)]\n",
    "    layer_attention_groups : list[list[str]] = [[] for _ in range(max(layers)+ 1)]\n",
    "    \n",
    "    for module_name, layer in zip(module_names, layers):\n",
    "        if \"mlp\" in module_name:\n",
    "            layer_mlp_groups[layer].append(module_name)\n",
    "        elif \"attn\" in module_name:\n",
    "            layer_attention_groups[layer].append(module_name)\n",
    "\n",
    "    return layer_mlp_groups, layer_attention_groups\n",
    "def plot_heatmap_influence_scores_by_layer(influence_scores_by_layer: dict[str, np.ndarray] | dict[str, torch.Tensor], train_dataset: Dataset, test_dataset: Dataset, title: str, xlabel: str, ylabel: str, aggregation_type: Literal[\"sum\", \"abs_sum\",\"ranks_above_median\",\"ranks_below_median\"] = \"sum\"):\n",
    "    if isinstance(next(iter(influence_scores_by_layer.values())), torch.Tensor):\n",
    "        influence_scores_by_layer = {k: v.to(dtype=torch.float32).cpu().numpy() for k, v in influence_scores_by_layer.items()} # type: ignore\n",
    "    parent_idxs = test_dataset[\"parent_fact_idx\"]\n",
    "    \n",
    "    groups_mlp, groups_attention = get_mlp_and_attention_groups(list(influence_scores_by_layer.keys()))\n",
    "     \n",
    "    title = f\"{title} ({aggregation_type})\"\n",
    "        \n",
    "    \n",
    "    if aggregation_type == \"sum\" or aggregation_type == \"abs_sum\":\n",
    "        groups_to_influence = {}\n",
    "        for group_name, group in zip([\"attention\", \"mlp\"], [groups_attention, groups_mlp]):\n",
    "            layer_group_to_influence = defaultdict(float)\n",
    "            for layer_num, layer_group in enumerate(group):\n",
    "                layer_group_influence = 0\n",
    "                for layer_name in layer_group:\n",
    "                    influence_score = influence_scores_by_layer[layer_name]\n",
    "                    influence_score_by_parent = influence_score[np.arange(len(influence_score)), parent_idxs]\n",
    "                    if aggregation_type == \"abs_sum\":\n",
    "                        influence_score_by_parent = np.abs(influence_score_by_parent)\n",
    "                    \n",
    "                    layer_group_influence += np.sum(influence_score_by_parent)\n",
    "                \n",
    "                layer_group_to_influence[f\"{group_name}_{layer_num}\"] = layer_group_influence\n",
    "            \n",
    "            groups_to_influence[group_name] = layer_group_to_influence\n",
    "    elif aggregation_type == \"ranks_below_median\" or aggregation_type == \"ranks_above_median\":\n",
    "        groups_to_influence = {}\n",
    "        for group_name, group in zip([\"attention\", \"mlp\"], [groups_attention, groups_mlp]):\n",
    "            layer_group_to_influence_array = defaultdict(lambda: np.zeros(len(parent_idxs)))\n",
    "            for layer_num, layer_group in enumerate(group):\n",
    "                layer_group_influence_parents  = np.zeros(len(parent_idxs))\n",
    "                for layer_name in layer_group:\n",
    "                    influence_score = influence_scores_by_layer[layer_name]\n",
    "                    influence_score_by_parent = influence_score[np.arange(len(influence_score)), parent_idxs]\n",
    "                    if aggregation_type == \"ranks_below_median\":\n",
    "                        influence_score_by_parent = -influence_score_by_parent\n",
    "                    layer_group_influence_parents += influence_score_by_parent\n",
    "                \n",
    "                layer_group_to_influence_array[f\"{group_name}_{layer_num}\"] = layer_group_influence_parents\n",
    "                \n",
    "                \n",
    "            layer_group_influence_stacked = np.stack(list(layer_group_to_influence_array.values()), axis=0)\n",
    "            \n",
    "            # now, rank the influence scores for each parent, and then subtract the median rank, clipping at 0 from all the ranks\n",
    "            layer_group_influence_stacked_ranks = np.argsort(np.argsort(-layer_group_influence_stacked, axis=0), axis=0)\n",
    "            layer_group_influence_stacked_ranks_above_median = np.clip(layer_group_influence_stacked_ranks - np.median(layer_group_influence_stacked_ranks, axis=0, keepdims=True), 0, None)\n",
    "            layer_group_influence = np.sum(layer_group_influence_stacked_ranks_above_median, axis=1)\n",
    "            layer_group_to_influence = {}\n",
    "            for layer_name, influence in zip(list(layer_group_to_influence_array.keys()), layer_group_influence):\n",
    "                layer_group_to_influence[layer_name] = influence\n",
    "            \n",
    "            groups_to_influence[group_name] = layer_group_to_influence\n",
    "    else:\n",
    "        raise ValueError(f\"Aggregation type {aggregation_type} not recognised\")\n",
    "\n",
    "    # Create a single figure with side-by-side subfigures for attention and mlp\n",
    "    fig, axes = plt.subplots(1, 2, figsize=(16, 10))\n",
    "    \n",
    "    for i, (group_name, layer_group_to_influence) in enumerate(groups_to_influence.items()):\n",
    "        ax = axes[i]\n",
    "        influences_array = np.array(list(layer_group_to_influence.values())).reshape(-1, 1)\n",
    "        # add yticks for each layer name\n",
    "        ax.set_yticks(np.arange(len(layer_group_to_influence)))\n",
    "        sns.heatmap(influences_array[:,::-1], cmap=\"viridis\", ax=ax, yticklabels=list(layer_group_to_influence.keys())[::-1])\n",
    "        ax.set_title(f\"{title} - {group_name.capitalize()}\")\n",
    "        ax.set_xlabel(xlabel)\n",
    "        if i == 0:  # Only add y-label to the first subplot\n",
    "            ax.set_ylabel(ylabel)\n",
    "    \n",
    "    fig.show()\n",
    "\n",
    "    return fig, axes\n",
    "    \n",
    "# TODO: Some trickyness about normalising scores by layer\n",
    "def plot_magnitude_across_queries(influence_scores: np.ndarray[Any, Any] | torch.Tensor, train_dataset: Dataset, test_dataset: Dataset, title: str, xlabel: str, ylabel: str, is_per_token: bool):\n",
    "    \n",
    "    magnitudes = np.sum(np.abs(influence_scores), axis=1)\n",
    "    fig, ax = plt.subplots()\n",
    "    sns.barplot(x=np.arange(len(magnitudes)), y=magnitudes, ax=ax)\n",
    "    ax.set_title(title)\n",
    "    ax.set_xlabel(xlabel)\n",
    "    ax.set_ylabel(ylabel)\n",
    "\n",
    "    return fig, ax\n",
    "\n",
    "\n",
    "\n",
    "def cache_reduce_scores(arg_dict : dict[str,Any]) -> str:\n",
    "    scores_by_document = arg_dict[\"scores_by_document\"]\n",
    "    # concatenate the scores\n",
    "    scores = np.concatenate(scores_by_document, axis=1)\n",
    "    return hashlib.sha256(scores.tobytes()).hexdigest()[:8] + arg_dict[\"reduction\"]\n",
    "\n",
    "@cache_function_outputs(cache_dir=Path(\"./analysis/cache_dir/\"), function_args_to_cache_id=cache_reduce_scores)\n",
    "def reduce_scores(scores_by_document: list[NDArray[Any]], reduction: Literal[\"sum\", \"mean\", \"max\"]) -> NDArray[Any]:\n",
    "    \n",
    "    reduced_scores_list = []\n",
    "    for score in scores_by_document:\n",
    "        if reduction == \"sum\":\n",
    "            reduced_score =  np.sum(score,axis=1)\n",
    "        elif reduction == \"mean\":\n",
    "            reduced_score = np.mean(score,axis=1)\n",
    "        elif reduction == \"max\":\n",
    "            reduced_score = np.max(score,axis=1)\n",
    "        else:\n",
    "            raise ValueError(f\"Influence reduction {reduction} not recognised\")\n",
    "        reduced_scores_list.append(reduced_score)\n",
    "    \n",
    "    return np.stack(reduced_scores_list)\n",
    "\n",
    "\n",
    "def visualise_influence_scores_by_document(per_document_per_token_influence_scores: list[NDArray[Any]], train_dataset_by_document: Dataset, test_dataset: Dataset,  tokenizer: PreTrainedTokenizer | PreTrainedTokenizerFast, parent_fact_only: bool = False, reduction: Literal[\"sum\", \"mean\", \"max\"] = \"max\", num_queries_to_visualise: int = 10, num_train_examples_per_query: int = 10, visualisation_group_token_size: int = 30, max_visualisation_groups: int = 3):\n",
    "    \n",
    "    document_scores_reduced = reduce_scores(per_document_per_token_influence_scores, reduction)\n",
    "    \n",
    " \n",
    "    def score_to_color(score: float) -> str:\n",
    "        return \"red\" if score < 0 else \"green\"\n",
    "            \n",
    "    for query_idx in range(num_queries_to_visualise):\n",
    "        query = test_dataset[query_idx]\n",
    "        current_query_str = f\"Query: {tokenizer.decode(query['input_ids'])}\\n\"\n",
    "        \n",
    "        train_docs_argsorted = np.argsort(-document_scores_reduced[query_idx, :])\n",
    "        train_docs_ranked = np.argsort(train_docs_argsorted)\n",
    "        \n",
    "        for visusalise_parent_fact_only in [True, False]:\n",
    "            if not visusalise_parent_fact_only:\n",
    "                train_docs_to_visualise = train_docs_argsorted[:num_train_examples_per_query]\n",
    "            else:\n",
    "                parent_fact_idxs = [idx for idx, item in enumerate(train_dataset_by_document) if item[\"fact\"] is not None and item[\"fact\"][\"fact_idx\"] == query[\"parent_fact_idx\"]] # type: ignore\n",
    "                train_docs_to_visualise_idxs = np.intersect1d(train_docs_argsorted, parent_fact_idxs,return_indices=True)[1]\n",
    "                train_docs_to_visualise = train_docs_argsorted[np.sort(train_docs_to_visualise_idxs)[:num_train_examples_per_query]]\n",
    "            \n",
    "            current_query_str += \"PARENT FACTS ONLY\" if visusalise_parent_fact_only else \"ALL TRAIN EXAMPLES\"\n",
    "            current_query_str += f\"\\n\"\n",
    "            \n",
    "            for train_doc_idx in train_docs_to_visualise:\n",
    "                train_doc_idx = int(train_doc_idx)\n",
    "                token_influence_scores = per_document_per_token_influence_scores[train_doc_idx][query_idx]\n",
    "                train_doc = train_dataset_by_document[train_doc_idx]\n",
    "                input_ids = train_doc[\"input_ids\"]\n",
    "                train_doc_str = \"\"\n",
    "                for token, token_influence_score in zip(input_ids, token_influence_scores):\n",
    "                    train_doc_str += f\"{colored(tokenizer.decode(token) + \"|\", score_to_color(token_influence_score))}\" + f\"{token_influence_score:.1f}\"\n",
    "                \n",
    "                if train_doc[\"fact\"] is not None and train_doc[\"fact\"][\"fact_idx\"] == query[\"parent_fact_idx\"]:\n",
    "                    train_doc_str += f\" {colored('(Parent Fact)', 'grey')}\"\n",
    "            \n",
    "        \n",
    "                current_query_str += f\"{train_docs_ranked[train_doc_idx]}. {train_doc_str}\\n\\n\"\n",
    "    \n",
    "        print(current_query_str + \"\\n\\n\")\n",
    "\n",
    "\n",
    "def plot_histogram_parent_ranks_subplot_grid(\n",
    "    influence_scores: NDArray[Any] | torch.Tensor,\n",
    "    train_dataset: Dataset,\n",
    "    test_dataset: Dataset,\n",
    "    title: str,\n",
    "    xlabel: str,\n",
    "    ylabel: str,\n",
    "    max_value: int | None = None,\n",
    "    bin_width: int = 10,\n",
    "    non_parents_instead_of_parents: bool = False,\n",
    "    idx_to_prob: dict[int, float] | None = None,\n",
    "    subplot_titles_prefix: str = \"Row\" # Prefix for subplot titles\n",
    "):\n",
    "    \"\"\"\n",
    "    Plots parent influence rank histograms in a grid of subplots (4 wide).\n",
    "\n",
    "    Each row in the calculated parent_influence_ranks gets its own histogram\n",
    "    in a subplot within the grid.\n",
    "\n",
    "    Args:\n",
    "        influence_scores: A 2D array or tensor of influence scores (e.g., test_instances x train_instances).\n",
    "        train_dataset: The training dataset object.\n",
    "        test_dataset: The test dataset object.\n",
    "        title: The main title for the entire figure (suptitle).\n",
    "        xlabel: The label for the shared x-axis.\n",
    "        ylabel: The label for the shared y-axis.\n",
    "        max_value: The maximum value for the x-axis and bin calculation. If None, determined from data.\n",
    "        bin_width: The width of each histogram bin.\n",
    "        non_parents_instead_of_parents: Flag passed to get_parent_influence_ranks.\n",
    "        subplot_titles_prefix: Prefix for individual subplot titles (e.g., \"Test Sample\", \"Row\").\n",
    "    \"\"\"\n",
    "    if isinstance(influence_scores, torch.Tensor):\n",
    "        influence_scores_np = influence_scores.to(dtype=torch.float32).cpu().numpy()\n",
    "    else:\n",
    "        influence_scores_np = np.asarray(influence_scores) # Ensure it's a numpy array\n",
    "\n",
    "    # Get the ranks. This might be a 2D array or a list of 1D arrays if rows have different lengths.\n",
    "    parent_influence_ranks_rows = get_parent_influence_ranks(\n",
    "        influence_scores_np, train_dataset, test_dataset, non_parents_instead_of_parents\n",
    "    )\n",
    "\n",
    "\n",
    "    # --- Prepare Data (still useful for range calculation) ---\n",
    "    data_for_df = [{\"row_index\": i, \"rank\": rank} for i, ranks in parent_influence_ranks_rows.items() for rank in ranks]\n",
    "\n",
    "    if not data_for_df:\n",
    "         print(\"Warning: No valid data points found for plotting. Cannot plot histogram.\")\n",
    "         return\n",
    "         \n",
    "    df = pd.DataFrame(data_for_df)\n",
    "    # --- ---\n",
    "\n",
    "    # --- Determine grid layout ---\n",
    "    ncols = 4\n",
    "    nrows = math.ceil(len(parent_influence_ranks_rows) / ncols)\n",
    "    # --- ---\n",
    "\n",
    "    # --- Calculate bins based on overall data ---\n",
    "    actual_max_rank = df['rank'].max()\n",
    "    plot_max_value = max_value if max_value is not None else actual_max_rank\n",
    "    # Define bins carefully to include the max value\n",
    "    bins = np.arange(0, plot_max_value + bin_width, bin_width)\n",
    "    # --- ---\n",
    "\n",
    "    # Create the subplot grid\n",
    "    # Adjust figsize: width is somewhat fixed by ncols, height scales with nrows\n",
    "    fig_height = max(3 * nrows, 5) # Heuristic for fig height\n",
    "    fig_width = 4 * ncols # Heuristic for fig width\n",
    "    fig, axes = plt.subplots(nrows=nrows, ncols=ncols, figsize=(fig_width, fig_height),\n",
    "                             sharex=True, sharey=True) # Share axes for better comparison\n",
    "\n",
    "    # Flatten axes array for easy iteration, handle cases where nrows or ncols is 1\n",
    "    axes_flat = axes.flatten() if isinstance(axes, np.ndarray) else [axes]\n",
    "\n",
    "    # --- Plot data onto subplots ---\n",
    "    for i in range(len(parent_influence_ranks_rows)):\n",
    "        ax = axes_flat[i]\n",
    "        # Filter data for the current row\n",
    "        subset_df = df[df['row_index'] == i]\n",
    "\n",
    "        if not subset_df.empty:\n",
    "            prob_str = \"\"\n",
    "            if idx_to_prob is not None:\n",
    "                prob_str = f\" Probability: {idx_to_prob[i]:.2f}\"\n",
    "            \n",
    "            sns.histplot(\n",
    "                 data=subset_df,\n",
    "                 x='rank',\n",
    "                 bins=bins,\n",
    "                 ax=ax\n",
    "             )\n",
    "            ax.set_title(f\"{subplot_titles_prefix} {i}{prob_str}\")\n",
    "            # Remove individual y-labels if sharing y-axis\n",
    "            ax.set_ylabel('')\n",
    "            # Remove individual x-labels if sharing x-axis\n",
    "            ax.set_xlabel('')\n",
    "        else:\n",
    "            # Handle cases where a row might have no valid data after filtering\n",
    "            ax.set_title(f\"{subplot_titles_prefix} {i} (No Data)\")\n",
    "            ax.set_yticks([])\n",
    "            ax.set_xticks([])\n",
    "\n",
    "\n",
    "    # --- Clean up unused subplots ---\n",
    "    for i in range(len(parent_influence_ranks_rows), len(axes_flat)):\n",
    "        axes_flat[i].axis('off') #type: ignore # Turn off axis\n",
    "    # --- ---\n",
    "\n",
    "    # Add overall figure title and shared axis labels\n",
    "    fig.suptitle(title, fontsize=16)\n",
    "    # Position supxlabel and supylabel appropriately\n",
    "    fig.supxlabel(xlabel, y=0.02) # Adjust y position as needed\n",
    "    fig.supylabel(ylabel, x=0.01) # Adjust x position as needed\n",
    "\n",
    "\n",
    "    # Adjust layout to prevent overlap\n",
    "    plt.tight_layout(rect=[0.03, 0.03, 1, 0.95]) # type: ignore # Adjust rect to make space for suptitle etc.\n",
    "\n",
    "    plt.show()\n",
    "###############################################################################\n",
    "# SPLIT-PDF VERSION OF `output_top_influence_documents`\n",
    "#\n",
    "#   pip install fpdf2 numpy\n",
    "###############################################################################\n",
    "\n",
    "from safetensors.torch import load_file, save_file\n",
    "@line_profiler.profile\n",
    "def load_pairwise_scores_with_all_modules(path: Path, load_individual_modules: bool = False) -> tuple[dict[str, torch.Tensor] | None, torch.Tensor]:\n",
    "\n",
    "    scores_dict = load_pairwise_scores(path / \"scores\")\n",
    "\n",
    "    all_modules_influence_scores = None\n",
    "    t1 = time.time()\n",
    "    if \"all_modules\" not in scores_dict:\n",
    "        modules_clones = [c.clone().to(dtype=torch.float32) for k,c in scores_dict.items() if \"all_modules\" not in k]      \n",
    "        all_modules_influence_scores = torch.stack(modules_clones).sum(0)   \n",
    "        # Save back the tensor\n",
    "\n",
    "        scores_dict[\"all_modules\"] = all_modules_influence_scores\n",
    "\n",
    "        scores_path = path / \"scores\" / \"pairwise_scores.safetensors\"\n",
    "        save_file(scores_dict, scores_path) # We save back to save a future load. \n",
    "    elif scores_dict[\"all_modules\"].dtype != torch.float32:\n",
    "        all_modules_influence_scores = scores_dict[\"all_modules\"].clone().to(dtype=torch.float32)\n",
    "        scores_dict[\"all_modules\"] = all_modules_influence_scores\n",
    "        scores_path = path / \"scores\" / \"pairwise_scores.safetensors\"\n",
    "        save_file(scores_dict, scores_path) # We save back to save a future load. \n",
    "    else:\n",
    "        print(\"No loading needed!\",end=\"\")\n",
    "        all_modules_influence_scores = scores_dict[\"all_modules\"].clone()\n",
    "    t2 = time.time()\n",
    "\n",
    "    print(f\" Time to read from disk: {t2 - t1}s\")\n",
    "\n",
    "    # After we have loaded the scores, we want to save the \"all_modules\" score back to disk\n",
    "    \n",
    "    t5 = time.time()\n",
    "    all_modules_influence_scores = all_modules_influence_scores.cpu().numpy()\n",
    "    if load_individual_modules:\n",
    "        for k, v in scores_dict.items():\n",
    "            scores_dict[k] = v.cpu().numpy()\n",
    "    else:\n",
    "        scores_dict = None\n",
    "    t6 = time.time()\n",
    "\n",
    "    print(f\"Time to numpy: {t6 - t5}s\")\n",
    "\n",
    "    return scores_dict, all_modules_influence_scores # type: ignore\n",
    "\n",
    "_LATIN1_REMAP = {\n",
    "    \"—\": \"--\",\n",
    "    \"–\": \"-\",  # dashes\n",
    "    \"“\": '\"',\n",
    "    \"”\": '\"',  # quotes\n",
    "    \"‘\": \"'\",\n",
    "    \"’\": \"'\",  # apostrophes\n",
    "    \"…\": \"...\",\n",
    "}\n",
    "_TRANSLATE_TABLE = str.maketrans(_LATIN1_REMAP)\n",
    "_NON_LATIN1_RE = re.compile(r\"[^\\x00-\\xFF]\")\n",
    "\n",
    "\n",
    "def latin1_safe(text: str) -> str:\n",
    "    \"\"\"Return a string that *guarantees* .encode('latin1') succeeds.\"\"\"\n",
    "    # a) explicit replacements first\n",
    "    text = text.translate(_TRANSLATE_TABLE)\n",
    "    # b) strip accents → base letters\n",
    "    text = unicodedata.normalize(\"NFKD\", text)\n",
    "    text = \"\".join(ch for ch in text if not unicodedata.combining(ch))\n",
    "    # c) final guard: replace any survivor >255 with '?'\n",
    "    return _NON_LATIN1_RE.sub(\"?\", text)\n",
    "\n",
    "\n",
    "# ────────────────────────────────────────────────────────────────\n",
    "#  2.  PDF WRITER  (no external fonts, uses only Helvetica)\n",
    "# ────────────────────────────────────────────────────────────────\n",
    "# ────────────────────────────────────────────────────────────────\n",
    "#  1.  LOW-LEVEL SANITISER  ─ ensures every string encodes in latin-1\n",
    "# ────────────────────────────────────────────────────────────────\n",
    "_LATIN1_REMAP = {\n",
    "    # dashes\n",
    "    \"—\": \"--\", \"–\": \"-\", \"‒\": \"-\", \"‐\": \"-\", \"\\u2011\": \"-\",  # includes non-breaking hyphen\n",
    "    # quotes and apostrophes\n",
    "    \"“\": '\"', \"”\": '\"', \"‘\": \"'\", \"’\": \"'\",\n",
    "    # ellipsis\n",
    "    \"…\": \"...\",\n",
    "}\n",
    "_TRANSLATE_TABLE = str.maketrans(_LATIN1_REMAP)\n",
    "_NON_LATIN1_RE = re.compile(r\"[^\\x00-\\xFF]\")\n",
    "\n",
    "def latin1_safe(text: str) -> str:\n",
    "    \"\"\"Return a string that *guarantees* .encode('latin1') succeeds.\"\"\"\n",
    "    text = text.translate(_TRANSLATE_TABLE)\n",
    "    text = unicodedata.normalize(\"NFKD\", text)\n",
    "    text = \"\".join(ch for ch in text if not unicodedata.combining(ch))\n",
    "    return _NON_LATIN1_RE.sub(\"?\", text)\n",
    "\n",
    "\n",
    "def output_top_influence_documents_pdfs(\n",
    "    tokenizer: PreTrainedTokenizerFast,\n",
    "    influence_scores_reduced: NDArray[Any],\n",
    "    influence_scores_unpacked: List[NDArray[Any]],\n",
    "    train_dataset: Dataset,\n",
    "    query_dataset: Dataset,\n",
    "    prob_vector: NDArray[Any] | None = None,\n",
    "    *,\n",
    "    n_queries: int = 2,\n",
    "    n_train: int = 20,\n",
    "    test_inds_to_focus_on: List[int] | None = None,\n",
    ") -> dict[str, FPDF]:\n",
    "    \"\"\"\n",
    "    Build one FPDF object per query with colored boxes and scores, using\n",
    "    built-in Helvetica and strict latin-1 output.\n",
    "    \"\"\"\n",
    "    def _pdf() -> FPDF:\n",
    "        pdf = FPDF()\n",
    "        pdf.set_auto_page_break(True, 12)\n",
    "        pdf.set_font(\"Helvetica\", size=10)\n",
    "        return pdf\n",
    "\n",
    "    q_total = influence_scores_reduced.shape[0]\n",
    "    n_queries = min(n_queries, q_total)\n",
    "    if test_inds_to_focus_on is not None:\n",
    "        n_queries = min(n_queries, len(test_inds_to_focus_on))\n",
    "        query_indices = test_inds_to_focus_on[:n_queries]\n",
    "    else:\n",
    "        query_indices = list(range(n_queries))\n",
    "\n",
    "    influence_ranks = np.argsort(-influence_scores_reduced, axis=1)\n",
    "    pdfs: dict[str, FPDF] = {}\n",
    "\n",
    "    for q_idx in query_indices:\n",
    "        pdf = _pdf()\n",
    "        pdf.add_page()\n",
    "\n",
    "        q_item = query_dataset[q_idx]\n",
    "        header = (\n",
    "            f\"Query {q_idx}: PROMPT: {q_item['prompt']} | \"\n",
    "            f\"COMPLETION: {q_item['completion']}\"\n",
    "        )\n",
    "        if prob_vector is not None:\n",
    "            header += f\" | P(correct)={prob_vector[q_idx]:.3f}\"\n",
    "        pdf.multi_cell(0, 6, latin1_safe(header))\n",
    "        pdf.ln(2)\n",
    "\n",
    "        # summary table header\n",
    "        pdf.set_font(\"Helvetica\", style=\"B\", size=9)\n",
    "        for w, txt in [(18, \"Rank\"), (25, \"IF-Score\"),\n",
    "                       (28, \"Type\"), (28, \"Parent?\"), (0, \"Preview\")]:\n",
    "            pdf.cell(w, 6, latin1_safe(txt), border=1)\n",
    "        pdf.ln()\n",
    "        pdf.set_font(\"Helvetica\", size=9)\n",
    "\n",
    "        top_train = influence_ranks[q_idx, :n_train]\n",
    "        for rank, t_idx in enumerate(top_train):\n",
    "            if t_idx >= len(train_dataset):\n",
    "                continue\n",
    "            t_item = train_dataset[int(t_idx)]\n",
    "            is_parent = (\n",
    "                t_item[\"type\"] == \"atomic_fact\"\n",
    "                and t_item.get(\"fact\", {}).get(\"idx\") == q_item[\"idx\"]\n",
    "            )\n",
    "            if_score = float(influence_scores_reduced[q_idx, t_idx])\n",
    "\n",
    "            r, g, b = (0, 128, 0) if if_score >= 0 else (200, 0, 0)\n",
    "            pdf.set_text_color(r, g, b)\n",
    "            pdf.cell(18, 5, str(rank), border=1)\n",
    "            pdf.cell(25, 5, f\"{if_score:+.3f}\", border=1)\n",
    "\n",
    "            pdf.set_text_color(0, 0, 0)\n",
    "            pdf.cell(28, 5, latin1_safe(t_item[\"type\"]), border=1)\n",
    "            pdf.cell(28, 5, latin1_safe(\"[PARENT]\" if is_parent else \"[NOT-PARENT]\"), border=1)\n",
    "\n",
    "            preview = (t_item.get(\"prompt\") or \"\")[:35].replace(\"\\n\", \" \")\n",
    "            pdf.cell(0, 5, latin1_safe(preview), border=1, ln=1)\n",
    "\n",
    "        pdf.ln(4)\n",
    "        pdf.set_font(\"Helvetica\", style=\"B\", size=10)\n",
    "        pdf.cell(0, 6, \"Per-token IF scores:\", ln=1)\n",
    "        pdf.set_font(\"Helvetica\", size=9)\n",
    "\n",
    "        for rank, t_idx in enumerate(top_train):\n",
    "            if t_idx >= len(train_dataset):\n",
    "                continue\n",
    "            t_item = train_dataset[int(t_idx)]\n",
    "            input_ids = t_item.get(\"input_ids\")\n",
    "            if not input_ids or t_idx >= len(influence_scores_unpacked):\n",
    "                continue\n",
    "\n",
    "            tok_scores = influence_scores_unpacked[t_idx][q_idx]\n",
    "            tok_strings = tokenizer.batch_decode(input_ids)\n",
    "\n",
    "            pdf.set_text_color(0, 0, 0)\n",
    "            pdf.multi_cell(0, 5, latin1_safe(\n",
    "                f\"\\n--- Train doc #{t_idx} (rank {rank}) ---\"))\n",
    "\n",
    "            max_abs = max(1e-7, float(np.max(np.abs(tok_scores))))\n",
    "            page_w   = pdf.w - pdf.r_margin - pdf.l_margin\n",
    "            line_h   = 6\n",
    "            score_h  = 5\n",
    "            space_w  = pdf.get_string_width(\" \") + 0.6\n",
    "\n",
    "            def _rgb(score: float) -> tuple[int, int, int]:\n",
    "                frac = min(1.0, abs(score) / max_abs)\n",
    "                base = 50\n",
    "                strength = int(base + 205 * frac)\n",
    "                return (0, strength, 0) if score >= 0 else (strength, 0, 0)\n",
    "\n",
    "            x_start = pdf.get_x()\n",
    "            y_start = pdf.get_y()\n",
    "            cur_x   = x_start\n",
    "            cur_y   = y_start\n",
    "\n",
    "            token_cells : list[tuple[str, float, float]] = []\n",
    "\n",
    "            for tok, sc in zip(tok_strings, tok_scores):\n",
    "                for sub_tok in latin1_safe(tok).split(\"\\n\"):\n",
    "                    if sub_tok == \"\" and \"\\n\" in tok:\n",
    "                        pdf.set_xy(x_start, cur_y + line_h + score_h)\n",
    "                        cur_x = x_start\n",
    "                        cur_y = pdf.get_y()\n",
    "                        continue\n",
    "\n",
    "                    cell_w = pdf.get_string_width(sub_tok) + 2\n",
    "                    if cur_x + cell_w > x_start + page_w:\n",
    "                        pdf.set_xy(x_start, cur_y + line_h + score_h)\n",
    "                        cur_x = x_start\n",
    "                        cur_y = pdf.get_y()\n",
    "                    token_cells.append((sub_tok, cell_w, float(sc)))\n",
    "                    cur_x += cell_w + space_w\n",
    "\n",
    "            # token row\n",
    "            pdf.set_xy(x_start, cur_y)\n",
    "            cur_x = x_start\n",
    "            for text, cell_w, sc in token_cells:\n",
    "                r, g, b = _rgb(sc)\n",
    "                pdf.set_fill_color(r, g, b)\n",
    "                pdf.set_text_color(0, 0, 0)\n",
    "                pdf.cell(cell_w, line_h, text, border=0, ln=0, align=\"C\", fill=True)\n",
    "                pdf.set_x(cur_x := cur_x + cell_w)\n",
    "                pdf.set_x(cur_x := cur_x + space_w)\n",
    "\n",
    "            # score row\n",
    "            pdf.set_xy(x_start, cur_y + line_h)\n",
    "            cur_x = x_start\n",
    "            for _, cell_w, sc in token_cells:\n",
    "                r, g, b = _rgb(sc)\n",
    "                pdf.set_text_color(r, g, b)\n",
    "                pdf.cell(cell_w, score_h, f\"{sc:+.2f}\", border=0, ln=0, align=\"C\", fill=False)\n",
    "                pdf.set_x(cur_x := cur_x + cell_w)\n",
    "                pdf.set_x(cur_x := cur_x + space_w)\n",
    "\n",
    "            pdf.set_xy(x_start, cur_y + line_h + score_h + 1)\n",
    "\n",
    "        pdfs[f\"query_{q_idx}\"] = pdf\n",
    "\n",
    "    return pdfs\n",
    "\n",
    "\n",
    "\n",
    "\n",
    "\n",
    "\n",
    "\n",
    "\n",
    "\n",
    "TYPES = [\"pretraining_document\", \"parent_fact\", \"non_parent_fact\",\"few_shot_example\",\"distractor_fact\",\"distractor_fact_for_other_person\"]\n",
    "def add_analysis_columns_to_test_dataset(test_dataset: Dataset, influence_scores: NDArray[Any] | torch.Tensor, train_dataset: Dataset) -> Dataset:\n",
    "    \"\"\"\n",
    "    Add analysis columns to the test dataset with cumulative counts sorted by influence scores.\n",
    "    \"\"\"\n",
    "    if isinstance(influence_scores, torch.Tensor):\n",
    "        influence_scores = influence_scores.cpu().numpy()\n",
    "\n",
    "    def get_datapoint_type(query_datapoint: dict[str, Any], train_datapoint: dict[str, Any]) -> dict[str, str]:\n",
    "        query_datapoint_idx = query_datapoint[\"fact\"][\"idx\"]\n",
    "        few_shot_city_idxs = [ex[\"idx\"] for ex in query_datapoint[\"few_shot_examples\"]]\n",
    "        train_type = train_datapoint[\"type\"]\n",
    "        train_idx = None if train_datapoint[\"fact\"] is None else train_datapoint[\"fact\"][\"idx\"]\n",
    "\n",
    "        query_features = json.loads(query_datapoint[\"fact\"][\"fields_json\"])\n",
    "        train_features = json.loads(train_datapoint[\"fact\"][\"fields_json\"]) if train_datapoint[\"fact\"] is not None else None\n",
    "        if train_type ==\"pretraining_document\":\n",
    "            type_to_return = \"pretraining_document\"\n",
    "        elif train_type == \"atomic_fact\" and train_idx == query_datapoint_idx:\n",
    "            type_to_return = \"parent_fact\"\n",
    "        elif train_type == \"atomic_fact\" and train_idx in few_shot_city_idxs:\n",
    "            type_to_return = \"few_shot_example\"\n",
    "        elif train_type == \"atomic_fact\" and train_idx != query_datapoint_idx:\n",
    "            type_to_return = \"non_parent_fact\"\n",
    "        elif train_type == \"distractor_fact\" and train_features[\"name_of_person\"] == query_features[\"name_of_person\"]:\n",
    "            type_to_return = \"distractor_fact\"\n",
    "        elif train_type == \"distractor_fact\" and train_features[\"name_of_person\"] != query_features[\"name_of_person\"]:\n",
    "            type_to_return = \"distractor_fact_for_other_person\"\n",
    "        else:\n",
    "            type_to_return = \"non_parent_fact\"\n",
    "        return {\"datapoint_type\": type_to_return}\n",
    "    \n",
    "    query_dataset_types_cumsum = defaultdict(list)\n",
    "    \n",
    "    for query_idx, query_datapoint in enumerate(test_dataset):\n",
    "        # Sort training examples by influence score for this query (highest first)\n",
    "        query_influence_scores = influence_scores[query_idx]\n",
    "        sorted_train_indices = np.argsort(-query_influence_scores)  # Negative for descending order\n",
    "        \n",
    "        # Select training examples in sorted order\n",
    "        train_dataset_sorted = train_dataset.select(sorted_train_indices.tolist())\n",
    "        \n",
    "        # Get types for all training examples in sorted order\n",
    "        train_dataset_by_type_sorted = train_dataset_sorted.map(\n",
    "            lambda train_datapoint: get_datapoint_type(query_datapoint, train_datapoint)\n",
    "        )[\"datapoint_type\"]\n",
    "        \n",
    "        # Create cumulative counts for each type in influence-sorted order\n",
    "        is_type = defaultdict(list)\n",
    "        for train_type in train_dataset_by_type_sorted:\n",
    "            for type_name in TYPES:\n",
    "                if type_name == train_type:\n",
    "                    is_type[type_name].append(1)\n",
    "                else:\n",
    "                    is_type[type_name].append(0)\n",
    "        \n",
    "        # Calculate cumulative sums\n",
    "        for type_name in TYPES:\n",
    "            is_type[type_name] = np.cumsum(is_type[type_name]).tolist()\n",
    "        \n",
    "        # Add to the collection for this query\n",
    "        for type_name in TYPES:\n",
    "            query_dataset_types_cumsum[type_name].append(is_type[type_name])\n",
    "    \n",
    "    # Add columns to the dataset\n",
    "    for type_name, cumsum in query_dataset_types_cumsum.items():\n",
    "        test_dataset = test_dataset.add_column(type_name, cumsum)\n",
    "    \n",
    "    return test_dataset\n",
    "\n",
    "from datasets import concatenate_datasets\n",
    "from oocr_influence.cli.train_extractive import TrainingArgs\n",
    "from typing import TypeVar\n",
    "from pydantic import BaseModel\n",
    "from dataclasses import dataclass\n",
    "from pathlib import Path\n",
    "import wandb\n",
    "T = TypeVar(\"T\", bound=BaseModel)\n",
    "def run_id_to_training_args(run_id: str | Path,entity: str = \"max-kaufmann\", project: str = \"malign-influence\",args_clss : type[T] = TrainingArgs) -> tuple[T, Path]:\n",
    "\n",
    "    api = wandb.Api()\n",
    "    run = api.run(f\"{entity}/{project}/{run_id}\")\n",
    "    args = run.config\n",
    "    output_dir = Path(run.summary[\"experiment_output_dir\"])\n",
    "\n",
    "    args = {k:v for k,v in args.items() if k in args_clss._schema()[\"properties\"]}\n",
    "    return args_clss.model_validate(args), output_dir\n",
    "\n",
    "@dataclass\n",
    "class InfluenceAnalysisDatapoint:\n",
    "    analysis_path: Path | str\n",
    "    name: str  = \"\"\n",
    "    do_ranks_below: bool = False\n",
    "    is_per_token: bool = False\n",
    "    old_type_of_datapoint: bool = False\n",
    "    lower_bound_on_query_prob: float | None = None\n",
    "\n",
    "\n",
    "def test_proportions_of_types_group_bar_plot_from_augmented(\n",
    "    augmented_test_datasets: list[Dataset], \n",
    "    top_ks: list[int], \n",
    "    types_to_plot: list[str] = TYPES,\n",
    "    title: str | None = None, \n",
    "    analysis_dir: Path | None = None, \n",
    "    test_inds_to_focus_on: list[int] | None = None,\n",
    "    plot_ratio: bool = False  # New parameter to control ratio plotting\n",
    ") -> None:\n",
    "    \"\"\"\n",
    "    Create a grouped bar plot showing proportions of different types in top k documents vs base rates.\n",
    "    Concatenates multiple test datasets and treats them as one big dataset for analysis.\n",
    "    \n",
    "    Args:\n",
    "        augmented_test_datasets: List of test datasets with analysis columns added (sorted by influence scores)\n",
    "        top_ks: List of k values to analyze (e.g., [1, 5, 10, 20])\n",
    "        types_to_plot: List of type names to include in plot\n",
    "        title: Optional title for the plot\n",
    "        analysis_dir: Optional directory to save the plot\n",
    "        test_inds_to_focus_on: Optional list of test indices to focus on (applied after concatenation)\n",
    "        plot_ratio: If True, plot ratio of actual rate to base rate instead of raw proportions\n",
    "    \"\"\"\n",
    "    # Concatenate all datasets into one big dataset\n",
    "    combined_dataset = concatenate_datasets(augmented_test_datasets)\n",
    "    \n",
    "    # Apply test index filtering to the combined dataset\n",
    "    if test_inds_to_focus_on is not None:\n",
    "        combined_dataset = combined_dataset.select(test_inds_to_focus_on)\n",
    "\n",
    "    n_queries = len(combined_dataset)\n",
    "    \n",
    "    # Get n_train from the length of the analysis columns\n",
    "    first_type_column = None\n",
    "    for type_name in types_to_plot:\n",
    "        if type_name in combined_dataset.column_names:\n",
    "            first_type_column = type_name\n",
    "            break\n",
    "    \n",
    "    if first_type_column is None:\n",
    "        raise ValueError(f\"None of the types {types_to_plot} found in dataset columns: {combined_dataset.column_names}\")\n",
    "    \n",
    "    n_train = len(combined_dataset[0][first_type_column])\n",
    "    \n",
    "    # Calculate base rates from the pre-computed analysis columns\n",
    "    base_rates = {}\n",
    "    for type_name in types_to_plot:\n",
    "        if type_name in combined_dataset.column_names:\n",
    "            # Get the final cumulative count for each query (last element of each list)\n",
    "            final_counts = [counts[-1] for counts in combined_dataset[type_name]]\n",
    "            # Average proportion across all queries\n",
    "            base_rates[type_name] = np.mean([count / n_train for count in final_counts])\n",
    "        else:\n",
    "            base_rates[type_name] = 0.0\n",
    "    \n",
    "    # Calculate proportions for each k\n",
    "    k_to_proportions = {}\n",
    "    \n",
    "    for k in top_ks:\n",
    "        k = min(k, n_train)  # Don't exceed number of training examples\n",
    "        type_proportions = {type_name: [] for type_name in types_to_plot}\n",
    "        for type_name in types_to_plot:\n",
    "            type_column = combined_dataset[type_name]\n",
    "            for query_idx in range(n_queries):\n",
    "                # For top k, we just need the cumulative count at position k-1\n",
    "                    if type_name in combined_dataset.column_names:\n",
    "                        cumulative_counts = type_column[query_idx]\n",
    "                        # Get count at position k-1 (since cumulative counts are 0-indexed)\n",
    "                        count_at_k = cumulative_counts[k-1] if k <= len(cumulative_counts) else cumulative_counts[-1]\n",
    "                        proportion = count_at_k / k\n",
    "                        type_proportions[type_name].append(proportion)\n",
    "                    else:\n",
    "                        type_proportions[type_name].append(0.0)\n",
    "        \n",
    "        # Average across queries\n",
    "        avg_proportions = {}\n",
    "        for type_name in types_to_plot:\n",
    "            avg_proportions[type_name] = np.mean(type_proportions[type_name])\n",
    "        \n",
    "        k_to_proportions[k] = avg_proportions\n",
    "    \n",
    "    # Prepare data for plotting\n",
    "    if plot_ratio:\n",
    "        # For ratio plot, we don't include base rates as a separate category\n",
    "        x_labels = [f'Top {k}' for k in top_ks]\n",
    "        x_pos = np.arange(len(x_labels))\n",
    "        \n",
    "        # Calculate ratios (actual rate / base rate)\n",
    "        ratio_data = {}\n",
    "        for k in top_ks:\n",
    "            ratio_data[k] = {}\n",
    "            for type_name in types_to_plot:\n",
    "                actual_rate = k_to_proportions[k][type_name]\n",
    "                base_rate = base_rates[type_name]\n",
    "                if base_rate > 0:\n",
    "                    ratio_data[k][type_name] = actual_rate / base_rate\n",
    "                else:\n",
    "                    # Handle division by zero - set to 0 if both are 0, otherwise inf\n",
    "                    ratio_data[k][type_name] = 0.0 if actual_rate == 0 else float('inf')\n",
    "        \n",
    "        ylabel = 'Ratio (Actual Rate / Base Rate)'\n",
    "        title_suffix = \" - Ratio to Base Rate\"\n",
    "    else:\n",
    "        # Original behavior - show raw proportions\n",
    "        x_labels = ['Base Rates'] + [f'Top {k}' for k in top_ks]\n",
    "        x_pos = np.arange(len(x_labels))\n",
    "        ylabel = 'Proportion'\n",
    "        title_suffix = \"\"\n",
    "    \n",
    "    width = 0.8 / len(types_to_plot)\n",
    "    \n",
    "    fig, ax = plt.subplots(figsize=(12, 8))\n",
    "    \n",
    "    # Use distinct colors for each type\n",
    "    colors = plt.cm.Set2(np.linspace(0, 1, len(types_to_plot)))\n",
    "    \n",
    "    for i, type_name in enumerate(types_to_plot):\n",
    "        if plot_ratio:\n",
    "            values = [ratio_data[k][type_name] for k in top_ks]\n",
    "        else:\n",
    "            values = [base_rates[type_name]] + [k_to_proportions[k][type_name] for k in top_ks]\n",
    "        \n",
    "        bars = ax.bar(x_pos + i * width, values, width, label=type_name, color=colors[i], \n",
    "                     alpha=0.8, edgecolor='black', linewidth=0.5)\n",
    "        \n",
    "        # Add value labels on bars\n",
    "        for bar, value in zip(bars, values):\n",
    "            height = bar.get_height()\n",
    "            if plot_ratio and value == float('inf'):\n",
    "                label_text = '∞'\n",
    "            else:\n",
    "                label_text = f'{value:.3f}' if not plot_ratio else f'{value:.2f}'\n",
    "            ax.text(bar.get_x() + bar.get_width()/2., height + (0.005 if not plot_ratio else 0.05),\n",
    "                   label_text, ha='center', va='bottom', fontsize=9)\n",
    "    \n",
    "    ax.set_xlabel('Groups', fontsize=12)\n",
    "    ax.set_ylabel(ylabel, fontsize=12)\n",
    "    \n",
    "    if title is None:\n",
    "        total_datasets = len(augmented_test_datasets)\n",
    "        title = f\"Proportion of Types in Top K Most Influential Documents vs Base Rates\\n(Combined from {total_datasets} datasets, n={n_queries} total queries)\"\n",
    "    \n",
    "    ax.set_title(title + title_suffix, fontsize=14)\n",
    "    ax.set_xticks(x_pos + width * (len(types_to_plot) - 1) / 2)\n",
    "    ax.set_xticklabels(x_labels, rotation=45 if len(top_ks) > 5 else 0)\n",
    "    ax.legend(bbox_to_anchor=(1.05, 1), loc='upper left')\n",
    "    ax.grid(True, alpha=0.3, axis='y')\n",
    "    \n",
    "    if plot_ratio:\n",
    "        # Add horizontal line at y=1 to show where actual rate equals base rate\n",
    "        ax.axhline(y=1.0, color='red', linestyle='--', alpha=0.7, label='Equal to base rate')\n",
    "        \n",
    "        # Set y-axis limit with some padding, handling potential infinity values\n",
    "        finite_values = [v for k_data in ratio_data.values() for v in k_data.values() if v != float('inf')]\n",
    "        if finite_values:\n",
    "            max_val = max(finite_values)\n",
    "            ax.set_ylim(0, max_val * 1.15)\n",
    "        else:\n",
    "            ax.set_ylim(0, 2)\n",
    "    else:\n",
    "        # Set y-axis limit with some padding\n",
    "        all_values = list(base_rates.values()) + [v for k_props in k_to_proportions.values() for v in k_props.values()]\n",
    "        max_val = max(all_values) if all_values else 1.0\n",
    "        ax.set_ylim(0, max_val * 1.15)\n",
    "    \n",
    "    plt.tight_layout()\n",
    "    \n",
    "    fig.show()\n",
    "    \n",
    "    if analysis_dir is not None:\n",
    "        plot_type = \"ratio\" if plot_ratio else \"proportions\"\n",
    "        save_location = analysis_dir / f\"{title}_{plot_type}_{test_proportions_of_types_group_bar_plot_from_augmented.__name__}.pdf\".replace(\"\\n\", \"_\")\n",
    "        fig.savefig(save_location, format=\"pdf\")"
   ]
  },
  {
   "cell_type": "markdown",
   "metadata": {},
   "source": [
    "### Influence Analysis Historgam"
   ]
  },
  {
   "cell_type": "code",
   "execution_count": 32,
   "metadata": {
    "notebookRunGroups": {
     "groupValue": "1"
    }
   },
   "outputs": [
    {
     "name": "stdout",
     "output_type": "stream",
     "text": [
      "PARENT_ANALYSIS_DIR: analysis/figures/2025_06_02_19_05_07influence_histograms\n"
     ]
    },
    {
     "name": "stderr",
     "output_type": "stream",
     "text": [
      "/h/319/max/malign-influence/src/oocr_influence/cli/run_influence.py:117: UserWarning: covariance_max_examples and lambda_max_examples should be None if covariance_and_lambda_max_examples is set. lambda_max_examples is set to 500\n",
      "  warnings.warn(\n",
      "/h/319/max/malign-influence/src/oocr_influence/cli/run_influence.py:121: UserWarning: covariance_max_examples and lambda_max_examples should be None if covariance_and_lambda_max_examples is set. covariance_max_examples is set to 500\n",
      "  warnings.warn(\n"
     ]
    },
    {
     "name": "stdout",
     "output_type": "stream",
     "text": [
      "experiment_output_dir=PosixPath('/h/319/max/malign-influence-sweep/outputs/2025_06_02_00-41-03_IXfJQ_first_time_generating_synthetic_ideas5_epochs_synthetic_docs_hop_pretraining_dataset_num_facts_10_num_epochs_5_lr_0.0001_pretrain_dset_size_8000_repeats_trn_1')\n"
     ]
    },
    {
     "ename": "AssertionError",
     "evalue": "Test dataset should be sorted by idx",
     "output_type": "error",
     "traceback": [
      "\u001b[31m---------------------------------------------------------------------------\u001b[39m",
      "\u001b[31mAssertionError\u001b[39m                            Traceback (most recent call last)",
      "\u001b[36mCell\u001b[39m\u001b[36m \u001b[39m\u001b[32mIn[32]\u001b[39m\u001b[32m, line 319\u001b[39m\n\u001b[32m    316\u001b[39m                     pretraining_document_idxs = [i \u001b[38;5;28;01mfor\u001b[39;00m i, \u001b[38;5;28mtype\u001b[39m \u001b[38;5;129;01min\u001b[39;00m \u001b[38;5;28menumerate\u001b[39m(pretraining_document_types) \u001b[38;5;28;01mif\u001b[39;00m \u001b[33m\"\u001b[39m\u001b[33mpretrain\u001b[39m\u001b[33m\"\u001b[39m \u001b[38;5;129;01min\u001b[39;00m \u001b[38;5;28mtype\u001b[39m]\n\u001b[32m    317\u001b[39m                     plot_histogram_train_subset(reduced_scores_by_document, train_dataset, subset_inds=pretraining_document_idxs, title=\u001b[33mf\u001b[39m\u001b[33m\"\u001b[39m\u001b[33mPretraining documents (\u001b[39m\u001b[38;5;132;01m{\u001b[39;00mreduction_for_plots\u001b[38;5;132;01m}\u001b[39;00m\u001b[33m) (\u001b[39m\u001b[38;5;132;01m{\u001b[39;00mexperiment_name\u001b[38;5;132;01m}\u001b[39;00m\u001b[33m)\u001b[39m\u001b[33m\"\u001b[39m,xlabel=\u001b[33m\"\u001b[39m\u001b[33mMagnitude\u001b[39m\u001b[33m\"\u001b[39m, ylabel=\u001b[33m\"\u001b[39m\u001b[33mCount\u001b[39m\u001b[33m\"\u001b[39m, bin_width=\u001b[38;5;28mlen\u001b[39m(pretraining_document_idxs) / \u001b[32m100\u001b[39m, test_inds_to_focus_on=test_inds_to_focus_on, analysis_dir=analysis_dir)\n\u001b[32m--> \u001b[39m\u001b[32m319\u001b[39m \u001b[43manalysis\u001b[49m\u001b[43m(\u001b[49m\u001b[43m)\u001b[49m\n",
      "\u001b[36mCell\u001b[39m\u001b[36m \u001b[39m\u001b[32mIn[32]\u001b[39m\u001b[32m, line 250\u001b[39m, in \u001b[36manalysis\u001b[39m\u001b[34m()\u001b[39m\n\u001b[32m    246\u001b[39m     \u001b[38;5;28;01mraise\u001b[39;00m \u001b[38;5;167;01mValueError\u001b[39;00m(\u001b[33m\"\u001b[39m\u001b[33mquery_dataset_path or query_dataset_split_name should be provided\u001b[39m\u001b[33m\"\u001b[39m)\n\u001b[32m    249\u001b[39m test_dataset_idxs = [fact[\u001b[33m\"\u001b[39m\u001b[33midx\u001b[39m\u001b[33m\"\u001b[39m] \u001b[38;5;28;01mfor\u001b[39;00m fact \u001b[38;5;129;01min\u001b[39;00m test_dataset[\u001b[33m\"\u001b[39m\u001b[33mfact\u001b[39m\u001b[33m\"\u001b[39m]]\n\u001b[32m--> \u001b[39m\u001b[32m250\u001b[39m \u001b[38;5;28;01massert\u001b[39;00m \u001b[38;5;28msorted\u001b[39m(test_dataset_idxs) == test_dataset_idxs, \u001b[33m\"\u001b[39m\u001b[33mTest dataset should be sorted by idx\u001b[39m\u001b[33m\"\u001b[39m\n\u001b[32m    252\u001b[39m \u001b[38;5;28;01mif\u001b[39;00m args.query_dataset_path \u001b[38;5;129;01mis\u001b[39;00m \u001b[38;5;129;01mnot\u001b[39;00m \u001b[38;5;28;01mNone\u001b[39;00m:\n\u001b[32m    253\u001b[39m     prob_query_name = path_to_prob_query_name(args.query_dataset_path)\n",
      "\u001b[31mAssertionError\u001b[39m: Test dataset should be sorted by idx"
     ]
    }
   ],
   "source": [
    "from line_profiler import profile\n",
    "from datetime import datetime\n",
    "def output_top_influence_documents_pdfs(\n",
    "    tokenizer: PreTrainedTokenizerFast,\n",
    "    influence_scores_reduced: NDArray[Any],\n",
    "    influence_scores_unpacked: List[NDArray[Any]],\n",
    "    train_dataset: Dataset,\n",
    "    query_dataset: Dataset,\n",
    "    prob_vector: NDArray[Any] | None = None,\n",
    "    *,\n",
    "    n_queries: int = 2,\n",
    "    n_train: int = 20,\n",
    "    test_inds_to_focus_on: List[int] | None = None,\n",
    ") -> dict[str, FPDF]:\n",
    "    \"\"\"\n",
    "    Build one FPDF object per query with colored boxes and scores, using\n",
    "    built-in Helvetica and strict latin-1 output.\n",
    "    \"\"\"\n",
    "    def _pdf() -> FPDF:\n",
    "        pdf = FPDF()\n",
    "        pdf.set_auto_page_break(True, 12)\n",
    "        pdf.set_font(\"Helvetica\", size=10)\n",
    "        return pdf\n",
    "\n",
    "    q_total = influence_scores_reduced.shape[0]\n",
    "    n_queries = min(n_queries, q_total)\n",
    "    if test_inds_to_focus_on is not None:\n",
    "        n_queries = min(n_queries, len(test_inds_to_focus_on))\n",
    "        query_indices = test_inds_to_focus_on[:n_queries]\n",
    "    else:\n",
    "        query_indices = list(range(n_queries))\n",
    "\n",
    "    influence_ranks = np.argsort(-influence_scores_reduced, axis=1)\n",
    "    pdfs: dict[str, FPDF] = {}\n",
    "\n",
    "    for q_idx in query_indices:\n",
    "        pdf = _pdf()\n",
    "        pdf.add_page()\n",
    "\n",
    "        # --- Header ---\n",
    "        q_item = query_dataset[q_idx]\n",
    "        header = (\n",
    "            f\"Query {q_idx}: PROMPT: {q_item['prompt']} | \"\n",
    "            f\"COMPLETION: {q_item['completion']}\"\n",
    "        )\n",
    "        if prob_vector is not None:\n",
    "            header += f\" | P(correct)={prob_vector[q_idx]:.3f}\"\n",
    "        pdf.multi_cell(0, 6, latin1_safe(header))\n",
    "        pdf.ln(2)\n",
    "\n",
    "        # --- Summary table ---\n",
    "        pdf.set_font(\"Helvetica\", style=\"B\", size=9)\n",
    "        for w, txt in [(18, \"Rank\"), (25, \"IF-Score\"),\n",
    "                       (28, \"Type\"), (28, \"Parent?\"), (0, \"Preview\")]:\n",
    "            pdf.cell(w, 6, latin1_safe(txt), border=1)\n",
    "        pdf.ln()\n",
    "        pdf.set_font(\"Helvetica\", size=9)\n",
    "\n",
    "        top_train = influence_ranks[q_idx, :n_train]\n",
    "        for rank, t_idx in enumerate(top_train):\n",
    "            if t_idx >= len(train_dataset):\n",
    "                continue\n",
    "            t_item = train_dataset[int(t_idx)]\n",
    "            is_parent = (\n",
    "                t_item[\"type\"] == \"atomic_fact\"\n",
    "                and t_item.get(\"fact\", {}).get(\"idx\") == q_item[\"idx\"]\n",
    "            )\n",
    "            if_score = float(influence_scores_reduced[q_idx, t_idx])\n",
    "\n",
    "            # colored rank and score\n",
    "            r, g, b = (0, 128, 0) if if_score >= 0 else (200, 0, 0)\n",
    "            pdf.set_text_color(r, g, b)\n",
    "            pdf.cell(18, 5, str(rank), border=1)\n",
    "            pdf.cell(25, 5, f\"{if_score:+.3f}\", border=1)\n",
    "\n",
    "            pdf.set_text_color(0, 0, 0)\n",
    "            pdf.cell(28, 5, latin1_safe(t_item[\"type\"]), border=1)\n",
    "            pdf.cell(28, 5, latin1_safe(\"[PARENT]\" if is_parent else \"[NOT-PARENT]\"), border=1)\n",
    "\n",
    "            preview = (t_item.get(\"prompt\") or \"\")[:35].replace(\"\\n\", \" \")\n",
    "            pdf.cell(0, 5, latin1_safe(preview), border=1, ln=1)\n",
    "\n",
    "        # --- Per-token scores, wrapped into multiple visual lines ---\n",
    "        pdf.ln(4)\n",
    "        pdf.set_font(\"Helvetica\", style=\"B\", size=10)\n",
    "        pdf.cell(0, 6, \"Per-token IF scores:\", ln=1)\n",
    "        pdf.set_font(\"Helvetica\", size=9)\n",
    "\n",
    "        page_w = pdf.w - pdf.l_margin - pdf.r_margin\n",
    "        line_h, score_h = 6, 5\n",
    "        space_w = pdf.get_string_width(\" \") + 0.6\n",
    "\n",
    "        for rank, t_idx in enumerate(top_train):\n",
    "            if t_idx >= len(train_dataset):\n",
    "                continue\n",
    "            t_item = train_dataset[int(t_idx)]\n",
    "            input_ids = t_item.get(\"input_ids\")\n",
    "            if not input_ids or t_idx >= len(influence_scores_unpacked):\n",
    "                continue\n",
    "\n",
    "            tok_scores  = influence_scores_unpacked[t_idx][q_idx]\n",
    "            tok_strings = tokenizer.batch_decode(input_ids)\n",
    "\n",
    "            # header for this train doc\n",
    "            pdf.set_text_color(0, 0, 0)\n",
    "            pdf.ln(1)\n",
    "            pdf.multi_cell(page_w, 5, latin1_safe(f\"--- Train doc #{t_idx} (rank {rank}) ---\"))\n",
    "            pdf.ln(1)\n",
    "\n",
    "            # flatten into (text, width, score)\n",
    "            raw_cells: list[tuple[str, float, float]] = []\n",
    "            for tok, sc in zip(tok_strings, tok_scores):\n",
    "                for sub in latin1_safe(tok).split(\"\\n\"):\n",
    "                    raw_cells.append((sub, pdf.get_string_width(sub) + 2, float(sc)))\n",
    "\n",
    "            # break into visual lines\n",
    "            lines: list[list[tuple[str, float, float]]] = []\n",
    "            cur_x = pdf.l_margin\n",
    "            current_line: list[tuple[str, float, float]] = []\n",
    "            for text, cell_w, sc in raw_cells:\n",
    "                if cur_x + cell_w > pdf.l_margin + page_w:\n",
    "                    lines.append(current_line)\n",
    "                    current_line = []\n",
    "                    cur_x = pdf.l_margin\n",
    "                current_line.append((text, cell_w, sc))\n",
    "                cur_x += cell_w + space_w\n",
    "            if current_line:\n",
    "                lines.append(current_line)\n",
    "\n",
    "            # draw each line + score row\n",
    "            y = pdf.get_y()\n",
    "            def _rgb(score: float) -> tuple[int,int,int]:\n",
    "                base = 50\n",
    "                mx = max(1e-7, float(np.max(np.abs(tok_scores))))\n",
    "                frac = min(1.0, abs(score) / mx)\n",
    "                strength = int(base + 205 * frac)\n",
    "                return (0, strength, 0) if score >= 0 else (strength, 0, 0)\n",
    "\n",
    "            for line_cells in lines:\n",
    "                x = pdf.l_margin\n",
    "                pdf.set_xy(x, y)\n",
    "                for text, cell_w, sc in line_cells:\n",
    "                    r, g, b = _rgb(sc)\n",
    "                    pdf.set_fill_color(r, g, b)\n",
    "                    pdf.set_text_color(0, 0, 0)\n",
    "                    pdf.cell(cell_w, line_h, text, border=0, ln=0, align=\"C\", fill=True)\n",
    "                    x += cell_w + space_w\n",
    "                    pdf.set_x(x)\n",
    "\n",
    "                pdf.set_xy(pdf.l_margin, y + line_h)\n",
    "                for _, cell_w, sc in line_cells:\n",
    "                    r, g, b = _rgb(sc)\n",
    "                    pdf.set_text_color(r, g, b)\n",
    "                    pdf.cell(cell_w, score_h, f\"{sc:+.2f}\", border=0, ln=0, align=\"C\")\n",
    "                    x += cell_w + space_w\n",
    "                    pdf.set_x(x)\n",
    "\n",
    "                y += line_h + score_h + 1\n",
    "\n",
    "            pdf.set_xy(pdf.l_margin, y)\n",
    "\n",
    "        pdfs[f\"query_{q_idx}\"] = pdf\n",
    "\n",
    "    return pdfs\n",
    "\n",
    "\n",
    "\n",
    "\n",
    "\n",
    "# RUN_IDS = [\n",
    "#     \"egb2x2qz\",\n",
    "#     \"sxeqezsn\",\n",
    "#     \"vtgxgh5u\",\n",
    "#     \"nbjzydfy\",\n",
    "#     \"8t0lc4k4\",\n",
    "#     \"buzibndf\",\n",
    "#     \"civr8g38\",\n",
    "#     \"sktmz6xf\",\n",
    "#     \"jm303kof\",\n",
    "#     ] <- few shots \n",
    "RUN_IDS = [\n",
    "\"4ujfx60l\",\n",
    "\"mplbfiwn\",\n",
    "\"mg1jdbxq\",\n",
    "\"g3a8bt2c\",\n",
    "\"otax56bp\",\n",
    "]\n",
    "\n",
    "RUN_IDS_WITH_BROKEN_TEST_DATASET = [\n",
    "\"4ujfx60l\",\n",
    "\"mplbfiwn\",\n",
    "\"mg1jdbxq\",\n",
    "\"g3a8bt2c\",\n",
    "\"otax56bp\"\n",
    "]\n",
    "\n",
    "days_since_start_of_year = lambda : (datetime.now() - datetime(datetime.now().year, 1, 1)).total_seconds() / (24 * 60 * 60)\n",
    "PARENT_ANALYSIS_DIR = Path(\"./analysis/figures/\") / (datetime.now().strftime(\"%Y_%m_%d_%H_%M_%S\") + \"influence_histograms\")\n",
    "print(f\"PARENT_ANALYSIS_DIR: {PARENT_ANALYSIS_DIR}\")\n",
    "\n",
    "@profile\n",
    "def analysis():\n",
    "    def path_to_prob_query_name(path: Path) -> str:\n",
    "        if \"first_hop\" in path.name:\n",
    "            return \"inferred_facts_first_hop\"\n",
    "        elif \"second_hop\" in path.name:\n",
    "            return \"inferred_facts_second_hop\"\n",
    "        else:\n",
    "            raise ValueError(f\"Unknown path: {path}\")\n",
    "    from datasets import load_from_disk\n",
    "\n",
    "    experiments_to_analyze = [InfluenceAnalysisDatapoint(analysis_path=run_id, name=\"Experiment resweep\",is_per_token=True) for run_id in RUN_IDS]\n",
    "    experiment_analysis_paths = [experiment.analysis_path for experiment in experiments_to_analyze]\n",
    "    experiment_logs = paths_or_wandb_to_logs(experiment_analysis_paths)\n",
    "    for experiment, log, path_or_wandb in zip(experiments_to_analyze,experiment_logs, experiment_analysis_paths):\n",
    "        influence_experiment_log = log\n",
    "        args = influence_experiment_log.args\n",
    "        if experiment.old_type_of_datapoint:\n",
    "            args = {k:v for k,v in args.items() if k in InfluenceArgs.model_json_schema()[\"properties\"]}\n",
    "        \n",
    "\n",
    "        args = InfluenceArgs.model_validate(args)\n",
    "        experiment_output_dir = Path(args.target_experiment_dir)\n",
    "        print(f\"{experiment_output_dir=}\")\n",
    "\n",
    "\n",
    "\n",
    "        _, train_dataset, test_datasets, tokenizer , experiment_log = load_experiment_checkpoint(experiment_output_dir=experiment_output_dir, checkpoint_name=\"checkpoint_final\", load_model=False, load_tokenizer=True)\n",
    "\n",
    "        experiment_args = experiment_log.args\n",
    "        if experiment.old_type_of_datapoint:\n",
    "            experiment_args = {k:v for k,v in experiment_args.items() if k in TrainingArgs.model_json_schema()[\"properties\"]}\n",
    "\n",
    "\n",
    "        experiment_args = TrainingArgs.model_validate(experiment_args)\n",
    "        \n",
    "        num_datapoints = experiment_args.synth_types_per_fact * experiment_args.synth_ideas_per_type * experiment_args.synth_docs_per_idea\n",
    "        if path_or_wandb in RUN_IDS_WITH_BROKEN_TEST_DATASET:\n",
    "            assert args.query_dataset_split_name == \"inferred_facts_first_hop_no_fs\", \"query_dataset_split_name should be inferred_facts_first_hop_no_fs\"\n",
    "            test_dataset = load_from_disk(Path(\"/h/319/max/malign-influence/outputs/2025_06_02_18-30-01_9capJ_first_time_generating_synthetic_ideas5_epochs_synthetic_docs_hop_pretraining_dataset_num_facts_10_num_epochs_5_lr_0.0001_pretrain_dset_size_8000_repeats_trn_1/eval_datasets/inferred_facts_first_hop_no_fs/eval_dataset\"))\n",
    "        elif args.query_dataset_path is not None:\n",
    "            test_dataset = load_from_disk(args.query_dataset_path)\n",
    "        elif args.query_dataset_split_name is not None:\n",
    "            test_dataset = test_datasets[args.query_dataset_split_name].dataset # type: ignore\n",
    "        else:\n",
    "            raise ValueError(\"query_dataset_path or query_dataset_split_name should be provided\")\n",
    "        \n",
    "\n",
    "        test_dataset_idxs = [fact[\"idx\"] for fact in test_dataset[\"fact\"]]\n",
    "        assert sorted(test_dataset_idxs) == test_dataset_idxs, \"Test dataset should be sorted by idx\"\n",
    "\n",
    "        if args.query_dataset_path is not None:\n",
    "            prob_query_name = path_to_prob_query_name(args.query_dataset_path)\n",
    "        else:\n",
    "            assert args.query_dataset_split_name is not None, \"query_dataset_split_name should be provided if query_dataset_path is not provided\"\n",
    "            prob_query_name = args.query_dataset_split_name\n",
    "\n",
    "\n",
    "        experiment_name_parent = f\"{experiment.name} \\n{args.factor_strategy}) {args.query_dataset_split_name} (num_datapoints: {num_datapoints})\"\n",
    "\n",
    "        probabilities = experiment_log.history[-1][\"eval_results\"][prob_query_name][\"prob_vector\"]\n",
    "        idx_to_prob = {test_dataset_idxs[results_idx]: prob for results_idx, prob in enumerate(probabilities)}\n",
    "\n",
    "        _, all_modules_influence_scores = load_pairwise_scores_with_all_modules(log.experiment_output_dir)\n",
    "\n",
    "\n",
    "        print(np.sum(all_modules_influence_scores))\n",
    "\n",
    "\n",
    "        if \"packed_documents\" in train_dataset.column_names:\n",
    "            all_modules_influence_scores_by_document, train_dataset_by_document = split_dataset_and_scores_by_document(all_modules_influence_scores, train_dataset, tokenizer)\n",
    "        else:\n",
    "            all_modules_influence_scores_by_document, train_dataset_by_document = all_modules_influence_scores, train_dataset\n",
    "\n",
    "        bin_width = max(1, int(len(train_dataset) / 40)) # type: ignore\n",
    "\n",
    "\n",
    "\n",
    "        for reduction_for_plots in [\"max\"]:\n",
    "            for lower_bound_on_query_prob in [-0.1, 0.1]:                \n",
    "    \n",
    "                if isinstance(all_modules_influence_scores_by_document, list):\n",
    "                    reduced_scores_by_document = reduce_scores(all_modules_influence_scores_by_document, reduction_for_plots)\n",
    "                    reduced_scores_by_document = reduced_scores_by_document.transpose()\n",
    "                else:\n",
    "                    reduced_scores_by_document = all_modules_influence_scores_by_document\n",
    "                \n",
    "                if lower_bound_on_query_prob is not None:\n",
    "                    item_idxs = test_dataset[\"idx\"]\n",
    "                    if lower_bound_on_query_prob < 0:\n",
    "                        test_inds_to_focus_on = [i for i, item_idx in enumerate(item_idxs) if idx_to_prob[item_idx] <= -lower_bound_on_query_prob]\n",
    "                        prob_str = f\"Prob <= {-lower_bound_on_query_prob}\"\n",
    "                    else:\n",
    "                        test_inds_to_focus_on = [i for i, item_idx in enumerate(item_idxs) if idx_to_prob[item_idx] >= lower_bound_on_query_prob]\n",
    "                        prob_str = f\"Prob >= {lower_bound_on_query_prob}\"\n",
    "                    experiment_name = f\"{experiment_name_parent} ({prob_str} {len(test_inds_to_focus_on)}|{len(test_dataset)})\"\n",
    "                else:\n",
    "                    test_inds_to_focus_on = None\n",
    "                    experiment_name = experiment_name_parent\n",
    "\n",
    "                analysis_dir = PARENT_ANALYSIS_DIR / (experiment_name).replace(\"\\n\", \"_\")\n",
    "                analysis_dir.mkdir(parents=True, exist_ok=True)\n",
    "                \n",
    "                output_pdf_dict_top_docs = output_top_influence_documents_pdfs(tokenizer,reduced_scores_by_document, all_modules_influence_scores_by_document, train_dataset_by_document, test_dataset, prob_vector=probabilities, n_queries=1, n_train=20,test_inds_to_focus_on=test_inds_to_focus_on)\n",
    "                for key, pdf in output_pdf_dict_top_docs.items():\n",
    "                    pdf_byes = pdf.output(analysis_dir / f\"{key}.pdf\")\n",
    "\n",
    "                print(f\"Wrote out top performing documents to {analysis_dir}\")\n",
    "                plot_histogram_parent_ranks(reduced_scores_by_document, train_dataset=train_dataset_by_document, test_dataset=test_dataset, title=f\"Parent facts ({reduction_for_plots})({experiment_name})\",xlabel=\"Parent rank\", ylabel=\"Count\",bin_width=bin_width,test_inds_to_focus_on=test_inds_to_focus_on, analysis_dir=analysis_dir)\n",
    "                plot_histogram_parent_ranks(reduced_scores_by_document, train_dataset=train_dataset_by_document, test_dataset=test_dataset, non_parents_instead_of_parents=True,title=f\"Non-parent facts ({reduction_for_plots})({experiment_name})\",xlabel=\"Parent rank\", ylabel=\"Count\",bin_width=bin_width,test_inds_to_focus_on=test_inds_to_focus_on, analysis_dir=analysis_dir)\n",
    "\n",
    "                pretraining_document_types = train_dataset_by_document[\"type\"]\n",
    "\n",
    "                if not(all(\"fact\" in type for type in set(pretraining_document_types))):\n",
    "                    # If they aren't all facts, its a pretraining dataset\n",
    "                    pretraining_document_idxs = [i for i, type in enumerate(pretraining_document_types) if \"pretrain\" in type]\n",
    "                    plot_histogram_train_subset(reduced_scores_by_document, train_dataset, subset_inds=pretraining_document_idxs, title=f\"Pretraining documents ({reduction_for_plots}) ({experiment_name})\",xlabel=\"Magnitude\", ylabel=\"Count\", bin_width=len(pretraining_document_idxs) / 100, test_inds_to_focus_on=test_inds_to_focus_on, analysis_dir=analysis_dir)\n",
    "\n",
    "analysis()"
   ]
  },
  {
   "cell_type": "markdown",
   "metadata": {},
   "source": [
    "### Influence Analysis Top Docs"
   ]
  },
  {
   "cell_type": "code",
   "execution_count": 52,
   "metadata": {},
   "outputs": [
    {
     "name": "stderr",
     "output_type": "stream",
     "text": [
      "/h/319/max/malign-influence/src/oocr_influence/cli/run_influence.py:117: UserWarning: covariance_max_examples and lambda_max_examples should be None if covariance_and_lambda_max_examples is set. lambda_max_examples is set to 500\n",
      "  warnings.warn(\n",
      "/h/319/max/malign-influence/src/oocr_influence/cli/run_influence.py:121: UserWarning: covariance_max_examples and lambda_max_examples should be None if covariance_and_lambda_max_examples is set. covariance_max_examples is set to 500\n",
      "  warnings.warn(\n"
     ]
    },
    {
     "name": "stdout",
     "output_type": "stream",
     "text": [
      "experiment_output_dir=PosixPath('/h/319/max/malign-influence-sweep/outputs/2025_06_02_00-41-03_IXfJQ_first_time_generating_synthetic_ideas5_epochs_synthetic_docs_hop_pretraining_dataset_num_facts_10_num_epochs_5_lr_0.0001_pretrain_dset_size_8000_repeats_trn_1')\n",
      "No loading needed! Time to read from disk: 0.0457456111907959s\n",
      "Time to numpy: 0.009690523147583008s\n",
      "15399229.0\n",
      "Saving reduce_scores to file analysis/cache_dir/reduce_scores/d8c091c972a69295968cb0e806b97871bf3630f0c229651415f7c8f32518b03d.pkl...Done.\n"
     ]
    },
    {
     "data": {
      "application/vnd.jupyter.widget-view+json": {
       "model_id": "64b374fed10f426ba04edf7b71bffdfe",
       "version_major": 2,
       "version_minor": 0
      },
      "text/plain": [
       "Map:   0%|          | 0/15988 [00:00<?, ? examples/s]"
      ]
     },
     "metadata": {},
     "output_type": "display_data"
    },
    {
     "data": {
      "application/vnd.jupyter.widget-view+json": {
       "model_id": "51e10029fc68492195590be7c0adeeb0",
       "version_major": 2,
       "version_minor": 0
      },
      "text/plain": [
       "Map:   0%|          | 0/15988 [00:00<?, ? examples/s]"
      ]
     },
     "metadata": {},
     "output_type": "display_data"
    },
    {
     "data": {
      "application/vnd.jupyter.widget-view+json": {
       "model_id": "4509f4ad965c4f5ebe7b13a897c1f040",
       "version_major": 2,
       "version_minor": 0
      },
      "text/plain": [
       "Map:   0%|          | 0/15988 [00:00<?, ? examples/s]"
      ]
     },
     "metadata": {},
     "output_type": "display_data"
    },
    {
     "data": {
      "application/vnd.jupyter.widget-view+json": {
       "model_id": "0ab8d62103ec49249be1af38b4a698b3",
       "version_major": 2,
       "version_minor": 0
      },
      "text/plain": [
       "Map:   0%|          | 0/15988 [00:00<?, ? examples/s]"
      ]
     },
     "metadata": {},
     "output_type": "display_data"
    },
    {
     "data": {
      "application/vnd.jupyter.widget-view+json": {
       "model_id": "8496dae346034885a459f65d2172b5d4",
       "version_major": 2,
       "version_minor": 0
      },
      "text/plain": [
       "Map:   0%|          | 0/15988 [00:00<?, ? examples/s]"
      ]
     },
     "metadata": {},
     "output_type": "display_data"
    },
    {
     "data": {
      "application/vnd.jupyter.widget-view+json": {
       "model_id": "825132690ffc49c288395cd6ba0743c2",
       "version_major": 2,
       "version_minor": 0
      },
      "text/plain": [
       "Map:   0%|          | 0/15988 [00:00<?, ? examples/s]"
      ]
     },
     "metadata": {},
     "output_type": "display_data"
    },
    {
     "data": {
      "application/vnd.jupyter.widget-view+json": {
       "model_id": "e0b90af8e74d42af9a07b60e552a48af",
       "version_major": 2,
       "version_minor": 0
      },
      "text/plain": [
       "Map:   0%|          | 0/15988 [00:00<?, ? examples/s]"
      ]
     },
     "metadata": {},
     "output_type": "display_data"
    },
    {
     "data": {
      "application/vnd.jupyter.widget-view+json": {
       "model_id": "df026b0ce5ae4221ad5b86314b9c0d48",
       "version_major": 2,
       "version_minor": 0
      },
      "text/plain": [
       "Map:   0%|          | 0/15988 [00:00<?, ? examples/s]"
      ]
     },
     "metadata": {},
     "output_type": "display_data"
    },
    {
     "data": {
      "application/vnd.jupyter.widget-view+json": {
       "model_id": "f3003401f4744786acee951f419c3aac",
       "version_major": 2,
       "version_minor": 0
      },
      "text/plain": [
       "Map:   0%|          | 0/15988 [00:00<?, ? examples/s]"
      ]
     },
     "metadata": {},
     "output_type": "display_data"
    },
    {
     "data": {
      "application/vnd.jupyter.widget-view+json": {
       "model_id": "4be9bcef5ece4e348a7202d607f48cf5",
       "version_major": 2,
       "version_minor": 0
      },
      "text/plain": [
       "Map:   0%|          | 0/15988 [00:00<?, ? examples/s]"
      ]
     },
     "metadata": {},
     "output_type": "display_data"
    },
    {
     "name": "stderr",
     "output_type": "stream",
     "text": [
      "/h/319/max/malign-influence/src/oocr_influence/cli/run_influence.py:117: UserWarning: covariance_max_examples and lambda_max_examples should be None if covariance_and_lambda_max_examples is set. lambda_max_examples is set to 500\n",
      "  warnings.warn(\n",
      "/h/319/max/malign-influence/src/oocr_influence/cli/run_influence.py:121: UserWarning: covariance_max_examples and lambda_max_examples should be None if covariance_and_lambda_max_examples is set. covariance_max_examples is set to 500\n",
      "  warnings.warn(\n"
     ]
    },
    {
     "name": "stdout",
     "output_type": "stream",
     "text": [
      "experiment_output_dir=PosixPath('/h/319/max/malign-influence-sweep/outputs/2025_06_02_00-41-04_Ec1HM_first_time_generating_synthetic_ideas10_epochs_synthetic_docs_hop_pretraining_dataset_num_facts_10_num_epochs_5_lr_0.0001_pretrain_dset_size_8000_repeats_trn_1')\n",
      "No loading needed! Time to read from disk: 0.06250357627868652s\n",
      "Time to numpy: 0.03248023986816406s\n",
      "69082570.0\n",
      "Saving reduce_scores to file analysis/cache_dir/reduce_scores/4467f0eec7f714d0a8c96ac748a340cd00ca3b970119324165a45994ec75c1b9.pkl...Done.\n"
     ]
    },
    {
     "data": {
      "application/vnd.jupyter.widget-view+json": {
       "model_id": "30921668dab04c8fb3e58e9efd0915da",
       "version_major": 2,
       "version_minor": 0
      },
      "text/plain": [
       "Map:   0%|          | 0/15985 [00:00<?, ? examples/s]"
      ]
     },
     "metadata": {},
     "output_type": "display_data"
    },
    {
     "data": {
      "application/vnd.jupyter.widget-view+json": {
       "model_id": "2351263206724dce80c273d9b224b8c2",
       "version_major": 2,
       "version_minor": 0
      },
      "text/plain": [
       "Map:   0%|          | 0/15985 [00:00<?, ? examples/s]"
      ]
     },
     "metadata": {},
     "output_type": "display_data"
    },
    {
     "data": {
      "application/vnd.jupyter.widget-view+json": {
       "model_id": "a673ec02cab5473a944854203c43e07d",
       "version_major": 2,
       "version_minor": 0
      },
      "text/plain": [
       "Map:   0%|          | 0/15985 [00:00<?, ? examples/s]"
      ]
     },
     "metadata": {},
     "output_type": "display_data"
    },
    {
     "data": {
      "application/vnd.jupyter.widget-view+json": {
       "model_id": "bc7b898134ed40b0bce96dd6849cddab",
       "version_major": 2,
       "version_minor": 0
      },
      "text/plain": [
       "Map:   0%|          | 0/15985 [00:00<?, ? examples/s]"
      ]
     },
     "metadata": {},
     "output_type": "display_data"
    },
    {
     "data": {
      "application/vnd.jupyter.widget-view+json": {
       "model_id": "5c3c0ab84ed74fb29cc42c2a409f7420",
       "version_major": 2,
       "version_minor": 0
      },
      "text/plain": [
       "Map:   0%|          | 0/15985 [00:00<?, ? examples/s]"
      ]
     },
     "metadata": {},
     "output_type": "display_data"
    },
    {
     "data": {
      "application/vnd.jupyter.widget-view+json": {
       "model_id": "40528215cac64b228975f6c1873fd2e4",
       "version_major": 2,
       "version_minor": 0
      },
      "text/plain": [
       "Map:   0%|          | 0/15985 [00:00<?, ? examples/s]"
      ]
     },
     "metadata": {},
     "output_type": "display_data"
    },
    {
     "data": {
      "application/vnd.jupyter.widget-view+json": {
       "model_id": "ee6711fe92eb4da6be75dee2eedb3ce8",
       "version_major": 2,
       "version_minor": 0
      },
      "text/plain": [
       "Map:   0%|          | 0/15985 [00:00<?, ? examples/s]"
      ]
     },
     "metadata": {},
     "output_type": "display_data"
    },
    {
     "data": {
      "application/vnd.jupyter.widget-view+json": {
       "model_id": "cf188a1ad1d24180937f5a8f5303f311",
       "version_major": 2,
       "version_minor": 0
      },
      "text/plain": [
       "Map:   0%|          | 0/15985 [00:00<?, ? examples/s]"
      ]
     },
     "metadata": {},
     "output_type": "display_data"
    },
    {
     "data": {
      "application/vnd.jupyter.widget-view+json": {
       "model_id": "1ac96838e25d4b5086da15a6f6ce2f1a",
       "version_major": 2,
       "version_minor": 0
      },
      "text/plain": [
       "Map:   0%|          | 0/15985 [00:00<?, ? examples/s]"
      ]
     },
     "metadata": {},
     "output_type": "display_data"
    },
    {
     "data": {
      "application/vnd.jupyter.widget-view+json": {
       "model_id": "812c30f51c4c434ea89efed74bdece76",
       "version_major": 2,
       "version_minor": 0
      },
      "text/plain": [
       "Map:   0%|          | 0/15985 [00:00<?, ? examples/s]"
      ]
     },
     "metadata": {},
     "output_type": "display_data"
    },
    {
     "name": "stderr",
     "output_type": "stream",
     "text": [
      "/h/319/max/malign-influence/src/oocr_influence/cli/run_influence.py:117: UserWarning: covariance_max_examples and lambda_max_examples should be None if covariance_and_lambda_max_examples is set. lambda_max_examples is set to 500\n",
      "  warnings.warn(\n",
      "/h/319/max/malign-influence/src/oocr_influence/cli/run_influence.py:121: UserWarning: covariance_max_examples and lambda_max_examples should be None if covariance_and_lambda_max_examples is set. covariance_max_examples is set to 500\n",
      "  warnings.warn(\n"
     ]
    },
    {
     "name": "stdout",
     "output_type": "stream",
     "text": [
      "experiment_output_dir=PosixPath('/h/319/max/malign-influence-sweep/outputs/2025_06_02_00-41-11_Nsedq_first_time_generating_synthetic_ideas40_epochs_synthetic_docs_hop_pretraining_dataset_num_facts_10_num_epochs_5_lr_0.0001_pretrain_dset_size_8000_repeats_trn_1')\n",
      "No loading needed! Time to read from disk: 0.04530906677246094s\n",
      "Time to numpy: 0.011214971542358398s\n",
      "58870430.0\n",
      "Saving reduce_scores to file analysis/cache_dir/reduce_scores/4029657694f575293d9de59fe6b0e01ddc5d81b9a38426381c63ea220f75586b.pkl...Done.\n"
     ]
    },
    {
     "data": {
      "application/vnd.jupyter.widget-view+json": {
       "model_id": "29c7f6db84bf43149dd124d0ab928b3e",
       "version_major": 2,
       "version_minor": 0
      },
      "text/plain": [
       "Map:   0%|          | 0/15987 [00:00<?, ? examples/s]"
      ]
     },
     "metadata": {},
     "output_type": "display_data"
    },
    {
     "data": {
      "application/vnd.jupyter.widget-view+json": {
       "model_id": "830b85287dab4ef2af722963421ae6d3",
       "version_major": 2,
       "version_minor": 0
      },
      "text/plain": [
       "Map:   0%|          | 0/15987 [00:00<?, ? examples/s]"
      ]
     },
     "metadata": {},
     "output_type": "display_data"
    },
    {
     "data": {
      "application/vnd.jupyter.widget-view+json": {
       "model_id": "7e3dcb59a2d1455c8cd1e6c3e397ab41",
       "version_major": 2,
       "version_minor": 0
      },
      "text/plain": [
       "Map:   0%|          | 0/15987 [00:00<?, ? examples/s]"
      ]
     },
     "metadata": {},
     "output_type": "display_data"
    },
    {
     "data": {
      "application/vnd.jupyter.widget-view+json": {
       "model_id": "437834e228084f0f8cc2fe103f1d5b7c",
       "version_major": 2,
       "version_minor": 0
      },
      "text/plain": [
       "Map:   0%|          | 0/15987 [00:00<?, ? examples/s]"
      ]
     },
     "metadata": {},
     "output_type": "display_data"
    },
    {
     "data": {
      "application/vnd.jupyter.widget-view+json": {
       "model_id": "38e59627cba84387a9e4d5a92b05dd56",
       "version_major": 2,
       "version_minor": 0
      },
      "text/plain": [
       "Map:   0%|          | 0/15987 [00:00<?, ? examples/s]"
      ]
     },
     "metadata": {},
     "output_type": "display_data"
    },
    {
     "data": {
      "application/vnd.jupyter.widget-view+json": {
       "model_id": "38ddf05ddcf441758a72ad5757be53e1",
       "version_major": 2,
       "version_minor": 0
      },
      "text/plain": [
       "Map:   0%|          | 0/15987 [00:00<?, ? examples/s]"
      ]
     },
     "metadata": {},
     "output_type": "display_data"
    },
    {
     "data": {
      "application/vnd.jupyter.widget-view+json": {
       "model_id": "fdced749660a4b729bd072c445eb929d",
       "version_major": 2,
       "version_minor": 0
      },
      "text/plain": [
       "Map:   0%|          | 0/15987 [00:00<?, ? examples/s]"
      ]
     },
     "metadata": {},
     "output_type": "display_data"
    },
    {
     "data": {
      "application/vnd.jupyter.widget-view+json": {
       "model_id": "6af687bdf98e4f6399e2789479c2d1fb",
       "version_major": 2,
       "version_minor": 0
      },
      "text/plain": [
       "Map:   0%|          | 0/15987 [00:00<?, ? examples/s]"
      ]
     },
     "metadata": {},
     "output_type": "display_data"
    },
    {
     "data": {
      "application/vnd.jupyter.widget-view+json": {
       "model_id": "5e1de4962b144278959b52f8fea639ec",
       "version_major": 2,
       "version_minor": 0
      },
      "text/plain": [
       "Map:   0%|          | 0/15987 [00:00<?, ? examples/s]"
      ]
     },
     "metadata": {},
     "output_type": "display_data"
    },
    {
     "data": {
      "application/vnd.jupyter.widget-view+json": {
       "model_id": "982703054a704374bed352d3c7f52a27",
       "version_major": 2,
       "version_minor": 0
      },
      "text/plain": [
       "Map:   0%|          | 0/15987 [00:00<?, ? examples/s]"
      ]
     },
     "metadata": {},
     "output_type": "display_data"
    },
    {
     "name": "stderr",
     "output_type": "stream",
     "text": [
      "/h/319/max/malign-influence/src/oocr_influence/cli/run_influence.py:117: UserWarning: covariance_max_examples and lambda_max_examples should be None if covariance_and_lambda_max_examples is set. lambda_max_examples is set to 500\n",
      "  warnings.warn(\n",
      "/h/319/max/malign-influence/src/oocr_influence/cli/run_influence.py:121: UserWarning: covariance_max_examples and lambda_max_examples should be None if covariance_and_lambda_max_examples is set. covariance_max_examples is set to 500\n",
      "  warnings.warn(\n"
     ]
    },
    {
     "name": "stdout",
     "output_type": "stream",
     "text": [
      "experiment_output_dir=PosixPath('/h/319/max/malign-influence-sweep/outputs/2025_06_02_00-41-04_su1RB_first_time_generating_synthetic_ideas20_epochs_synthetic_docs_hop_pretraining_dataset_num_facts_10_num_epochs_5_lr_0.0001_pretrain_dset_size_8000_repeats_trn_1')\n",
      "No loading needed! Time to read from disk: 0.045844316482543945s\n",
      "Time to numpy: 0.011407613754272461s\n",
      "-100207590.0\n",
      "Saving reduce_scores to file analysis/cache_dir/reduce_scores/bf9d0b9d84e80d2b72d069ff265d4a4e8751ecc7346b21edfe11589e439d8e46.pkl...Done.\n"
     ]
    },
    {
     "data": {
      "application/vnd.jupyter.widget-view+json": {
       "model_id": "6c53a29e143e4229946c5ecb4d5bf693",
       "version_major": 2,
       "version_minor": 0
      },
      "text/plain": [
       "Map:   0%|          | 0/15981 [00:00<?, ? examples/s]"
      ]
     },
     "metadata": {},
     "output_type": "display_data"
    },
    {
     "data": {
      "application/vnd.jupyter.widget-view+json": {
       "model_id": "751c146801b64877ab2eabf8379758a6",
       "version_major": 2,
       "version_minor": 0
      },
      "text/plain": [
       "Map:   0%|          | 0/15981 [00:00<?, ? examples/s]"
      ]
     },
     "metadata": {},
     "output_type": "display_data"
    },
    {
     "data": {
      "application/vnd.jupyter.widget-view+json": {
       "model_id": "40370591cdf145018ab8a1f74bbc212c",
       "version_major": 2,
       "version_minor": 0
      },
      "text/plain": [
       "Map:   0%|          | 0/15981 [00:00<?, ? examples/s]"
      ]
     },
     "metadata": {},
     "output_type": "display_data"
    },
    {
     "data": {
      "application/vnd.jupyter.widget-view+json": {
       "model_id": "60f69aca4bf045049234b31df6811e8c",
       "version_major": 2,
       "version_minor": 0
      },
      "text/plain": [
       "Map:   0%|          | 0/15981 [00:00<?, ? examples/s]"
      ]
     },
     "metadata": {},
     "output_type": "display_data"
    },
    {
     "data": {
      "application/vnd.jupyter.widget-view+json": {
       "model_id": "3e7fffa6a88d45619cf4ffe33d224b61",
       "version_major": 2,
       "version_minor": 0
      },
      "text/plain": [
       "Map:   0%|          | 0/15981 [00:00<?, ? examples/s]"
      ]
     },
     "metadata": {},
     "output_type": "display_data"
    },
    {
     "data": {
      "application/vnd.jupyter.widget-view+json": {
       "model_id": "6c0bf70521ff483bac72cc5f5c638dc4",
       "version_major": 2,
       "version_minor": 0
      },
      "text/plain": [
       "Map:   0%|          | 0/15981 [00:00<?, ? examples/s]"
      ]
     },
     "metadata": {},
     "output_type": "display_data"
    },
    {
     "data": {
      "application/vnd.jupyter.widget-view+json": {
       "model_id": "042fdbe31fd748c69194f0b5740daa67",
       "version_major": 2,
       "version_minor": 0
      },
      "text/plain": [
       "Map:   0%|          | 0/15981 [00:00<?, ? examples/s]"
      ]
     },
     "metadata": {},
     "output_type": "display_data"
    },
    {
     "data": {
      "application/vnd.jupyter.widget-view+json": {
       "model_id": "c71988f0ff67488eba42b973b266c8c5",
       "version_major": 2,
       "version_minor": 0
      },
      "text/plain": [
       "Map:   0%|          | 0/15981 [00:00<?, ? examples/s]"
      ]
     },
     "metadata": {},
     "output_type": "display_data"
    },
    {
     "data": {
      "application/vnd.jupyter.widget-view+json": {
       "model_id": "42d64967eb8a40bbb553961c091017e1",
       "version_major": 2,
       "version_minor": 0
      },
      "text/plain": [
       "Map:   0%|          | 0/15981 [00:00<?, ? examples/s]"
      ]
     },
     "metadata": {},
     "output_type": "display_data"
    },
    {
     "data": {
      "application/vnd.jupyter.widget-view+json": {
       "model_id": "5b08a4bb98794caeb5b9198622420291",
       "version_major": 2,
       "version_minor": 0
      },
      "text/plain": [
       "Map:   0%|          | 0/15981 [00:00<?, ? examples/s]"
      ]
     },
     "metadata": {},
     "output_type": "display_data"
    },
    {
     "name": "stderr",
     "output_type": "stream",
     "text": [
      "/h/319/max/malign-influence/src/oocr_influence/cli/run_influence.py:117: UserWarning: covariance_max_examples and lambda_max_examples should be None if covariance_and_lambda_max_examples is set. lambda_max_examples is set to 500\n",
      "  warnings.warn(\n",
      "/h/319/max/malign-influence/src/oocr_influence/cli/run_influence.py:121: UserWarning: covariance_max_examples and lambda_max_examples should be None if covariance_and_lambda_max_examples is set. covariance_max_examples is set to 500\n",
      "  warnings.warn(\n"
     ]
    },
    {
     "name": "stdout",
     "output_type": "stream",
     "text": [
      "experiment_output_dir=PosixPath('/h/319/max/malign-influence-sweep/outputs/2025_06_02_00-41-03_FhbHP_first_time_generating_synthetic_ideas1_epochs_synthetic_docs_hop_pretraining_dataset_num_facts_10_num_epochs_5_lr_0.0001_pretrain_dset_size_8000_repeats_trn_1')\n",
      "No loading needed! Time to read from disk: 0.05153226852416992s\n",
      "Time to numpy: 0.011260032653808594s\n",
      "78614420.0\n",
      "Saving reduce_scores to file analysis/cache_dir/reduce_scores/93ace82c6c2e71bccf089c59b1b3f020f2e5578d4d17c2ae86384ca3b3953f3a.pkl...Done.\n"
     ]
    },
    {
     "data": {
      "application/vnd.jupyter.widget-view+json": {
       "model_id": "81a9cd3c6f2e4c04a7544694fcc966b7",
       "version_major": 2,
       "version_minor": 0
      },
      "text/plain": [
       "Map:   0%|          | 0/15986 [00:00<?, ? examples/s]"
      ]
     },
     "metadata": {},
     "output_type": "display_data"
    },
    {
     "data": {
      "application/vnd.jupyter.widget-view+json": {
       "model_id": "4fae7fcb490d4597aaf90eb6a0dcfccc",
       "version_major": 2,
       "version_minor": 0
      },
      "text/plain": [
       "Map:   0%|          | 0/15986 [00:00<?, ? examples/s]"
      ]
     },
     "metadata": {},
     "output_type": "display_data"
    },
    {
     "data": {
      "application/vnd.jupyter.widget-view+json": {
       "model_id": "d2d3c28878fa42ef8a185a14b7cdc2ab",
       "version_major": 2,
       "version_minor": 0
      },
      "text/plain": [
       "Map:   0%|          | 0/15986 [00:00<?, ? examples/s]"
      ]
     },
     "metadata": {},
     "output_type": "display_data"
    },
    {
     "data": {
      "application/vnd.jupyter.widget-view+json": {
       "model_id": "3fabb7eb832a48d7a52b31fb55b0372d",
       "version_major": 2,
       "version_minor": 0
      },
      "text/plain": [
       "Map:   0%|          | 0/15986 [00:00<?, ? examples/s]"
      ]
     },
     "metadata": {},
     "output_type": "display_data"
    },
    {
     "data": {
      "application/vnd.jupyter.widget-view+json": {
       "model_id": "29959ec7b3414c429542dba2c6bcef7f",
       "version_major": 2,
       "version_minor": 0
      },
      "text/plain": [
       "Map:   0%|          | 0/15986 [00:00<?, ? examples/s]"
      ]
     },
     "metadata": {},
     "output_type": "display_data"
    },
    {
     "data": {
      "application/vnd.jupyter.widget-view+json": {
       "model_id": "29ec29e43dd5465db8450d86cf30d73c",
       "version_major": 2,
       "version_minor": 0
      },
      "text/plain": [
       "Map:   0%|          | 0/15986 [00:00<?, ? examples/s]"
      ]
     },
     "metadata": {},
     "output_type": "display_data"
    },
    {
     "data": {
      "application/vnd.jupyter.widget-view+json": {
       "model_id": "7bcf4d138b3d4d119183c89250e8eb8e",
       "version_major": 2,
       "version_minor": 0
      },
      "text/plain": [
       "Map:   0%|          | 0/15986 [00:00<?, ? examples/s]"
      ]
     },
     "metadata": {},
     "output_type": "display_data"
    },
    {
     "data": {
      "application/vnd.jupyter.widget-view+json": {
       "model_id": "9a8141b8996c4ff28822f2c2288386a2",
       "version_major": 2,
       "version_minor": 0
      },
      "text/plain": [
       "Map:   0%|          | 0/15986 [00:00<?, ? examples/s]"
      ]
     },
     "metadata": {},
     "output_type": "display_data"
    },
    {
     "data": {
      "application/vnd.jupyter.widget-view+json": {
       "model_id": "a723a1f4739a4bb79ce719de69f4160e",
       "version_major": 2,
       "version_minor": 0
      },
      "text/plain": [
       "Map:   0%|          | 0/15986 [00:00<?, ? examples/s]"
      ]
     },
     "metadata": {},
     "output_type": "display_data"
    },
    {
     "data": {
      "application/vnd.jupyter.widget-view+json": {
       "model_id": "35c39db048de4720b87d8d4517ebaf12",
       "version_major": 2,
       "version_minor": 0
      },
      "text/plain": [
       "Map:   0%|          | 0/15986 [00:00<?, ? examples/s]"
      ]
     },
     "metadata": {},
     "output_type": "display_data"
    }
   ],
   "source": [
    "import json\n",
    "from oocr_influence.cli.train_extractive import TrainingArgs\n",
    "import time\n",
    "import wandb\n",
    "from pydantic import BaseModel\n",
    "from datasets import load_from_disk\n",
    "from shared_ml.logging import LogState, load_log_from_disk\n",
    "import cProfile\n",
    "import pstats\n",
    "import io\n",
    "from pathlib import Path\n",
    "import line_profiler \n",
    "import matplotlib.style as mplstyle\n",
    "from datetime import datetime\n",
    "import string\n",
    "import random\n",
    "# run_ids = [\n",
    "# \"egb2x2qz\",\n",
    "# \"sxeqezsn\",\n",
    "# \"vtgxgh5u\",\n",
    "# \"nbjzydfy\",\n",
    "# \"8t0lc4k4\",\n",
    "# \"buzibndf\",\n",
    "# \"civr8g38\",\n",
    "# \"sktmz6xf\",\n",
    "\n",
    "# \"jm303kof\",\n",
    "RUN_IDS = [\n",
    "\"4ujfx60l\",\n",
    "\"mplbfiwn\",\n",
    "\"mg1jdbxq\",\n",
    "\"g3a8bt2c\",\n",
    "\"otax56bp\",\n",
    "]\n",
    "\n",
    "RUN_IDS_WITH_BROKEN_TEST_DATASET = [\n",
    "\"4ujfx60l\",\n",
    "\"mplbfiwn\",\n",
    "\"mg1jdbxq\",\n",
    "\"g3a8bt2c\",\n",
    "\"otax56bp\"\n",
    "]\n",
    "\n",
    "TOP_KS = [5,10,50,100]\n",
    "experiments_to_analyze = [InfluenceAnalysisDatapoint(analysis_path=run_id, name=\"Experiment resweep\",is_per_token=True) for run_id in RUN_IDS]\n",
    "\n",
    "def query_name_to_eval_results_key(query_name: str) -> str:\n",
    "    if \"first_hop\" in query_name:\n",
    "        return \"inferred_facts_first_hop\"\n",
    "    elif \"second_hop\" in query_name:\n",
    "        return \"inferred_facts_second_hop\"\n",
    "    else:\n",
    "        raise ValueError(f\"Unknown query name: {query_name}\")\n",
    "\n",
    "from datetime import datetime\n",
    "\n",
    "experiment_name_parent = f\"Averaging across all queries, see the top docs\"\n",
    "test_datasets_parent = []\n",
    "prob_vectors_parent = []\n",
    "original_experiment_logs = []\n",
    "experiment_analysis_paths = [experiment.analysis_path for experiment in experiments_to_analyze] \n",
    "experiment_logs = paths_or_wandb_to_logs(experiment_analysis_paths)\n",
    "PROFILE = False\n",
    "SCORE_REDUCTION = \"mean\"\n",
    "for experiment, log, path_or_wandb in zip(experiments_to_analyze,experiment_logs, experiment_analysis_paths):\n",
    "    influence_experiment_log = log\n",
    "    args = influence_experiment_log.args\n",
    "    \n",
    "    args = InfluenceArgs.model_validate(args)\n",
    "    experiment_output_dir = Path(args.target_experiment_dir)\n",
    "    print(f\"{experiment_output_dir=}\")\n",
    "\n",
    "    _, train_dataset, test_datasets, tokenizer , experiment_log = load_experiment_checkpoint(experiment_output_dir=experiment_output_dir, checkpoint_name=\"checkpoint_final\", load_model=False, load_tokenizer=True)\n",
    "\n",
    "    original_experiment_logs.append(experiment_log)\n",
    "\n",
    "    if path_or_wandb in RUN_IDS_WITH_BROKEN_TEST_DATASET:\n",
    "        assert args.query_dataset_split_name == \"inferred_facts_first_hop_no_fs\", \"query_dataset_split_name should be inferred_facts_first_hop_no_fs\"\n",
    "        test_dataset = load_from_disk(Path(\"/h/319/max/malign-influence/outputs/2025_06_02_18-30-01_9capJ_first_time_generating_synthetic_ideas5_epochs_synthetic_docs_hop_pretraining_dataset_num_facts_10_num_epochs_5_lr_0.0001_pretrain_dset_size_8000_repeats_trn_1/eval_datasets/inferred_facts_first_hop_no_fs/eval_dataset\"))\n",
    "    elif args.query_dataset_path is not None:\n",
    "        test_dataset = load_from_disk(args.query_dataset_path) \n",
    "    elif args.query_dataset_split_name is not None:\n",
    "        test_dataset = test_datasets[args.query_dataset_split_name].dataset # type: ignore\n",
    "    else:\n",
    "        raise ValueError(\"query_dataset_path or query_dataset_split_name should be provided\")\n",
    "\n",
    "    experiment_args = experiment_log.args\n",
    "    if experiment.old_type_of_datapoint:\n",
    "        experiment_args = {k:v for k,v in experiment_args.items() if k in TrainingArgs.model_json_schema()[\"properties\"]}\n",
    "\n",
    "    experiment_args = TrainingArgs.model_validate(experiment_args)\n",
    "    \n",
    "    num_datapoints = experiment_args.synth_types_per_fact * experiment_args.synth_ideas_per_type * experiment_args.synth_docs_per_idea\n",
    "\n",
    "\n",
    "    probabilities = experiment_log.history[-1][\"eval_results\"][query_name_to_eval_results_key(args.query_dataset_split_name or args.query_dataset_path.name)][\"prob_vector\"]\n",
    "    prob_vectors_parent.append(probabilities)\n",
    "    test_dataset_parent_idxs = [fact[\"idx\"] for fact in test_dataset[\"fact\"]]\n",
    "    t_2_5 = time.time()\n",
    "    scores_dict, all_modules_influence_scores = load_pairwise_scores_with_all_modules(log.experiment_output_dir)\n",
    "    t3 = time.time()\n",
    "\n",
    "    print(np.sum(all_modules_influence_scores))\n",
    "\n",
    "\n",
    "    if \"packed_documents\" in train_dataset.column_names:\n",
    "        all_modules_influence_scores_by_document, train_dataset_by_document = split_dataset_and_scores_by_document(all_modules_influence_scores, train_dataset, tokenizer)\n",
    "    else:\n",
    "        all_modules_influence_scores_by_document, train_dataset_by_document = all_modules_influence_scores, train_dataset\n",
    "\n",
    "    bin_width = max(1, int(len(train_dataset) / 40)) # type: ignore\n",
    "\n",
    "    t4 = time.time()\n",
    "    if isinstance(all_modules_influence_scores_by_document, list):\n",
    "        reduced_scores_by_document = reduce_scores(all_modules_influence_scores_by_document, SCORE_REDUCTION)\n",
    "        reduced_scores_by_document = reduced_scores_by_document.transpose()\n",
    "    else:\n",
    "        reduced_scores_by_document = all_modules_influence_scores_by_document\n",
    "    \n",
    "    test_dataset = add_analysis_columns_to_test_dataset(test_dataset=test_dataset, influence_scores=reduced_scores_by_document, train_dataset=train_dataset_by_document)   \n",
    "    test_datasets_parent.append(test_dataset)\n"
   ]
  },
  {
   "cell_type": "code",
   "execution_count": 53,
   "metadata": {},
   "outputs": [
    {
     "name": "stdout",
     "output_type": "stream",
     "text": [
      "PARENT_ANALYSIS_DIR: analysis/figures/2025_06_02_19_27_42_yFm_top_docs\n"
     ]
    },
    {
     "name": "stderr",
     "output_type": "stream",
     "text": [
      "/h/319/max/malign-influence/src/oocr_influence/cli/run_influence.py:117: UserWarning: covariance_max_examples and lambda_max_examples should be None if covariance_and_lambda_max_examples is set. lambda_max_examples is set to 500\n",
      "  warnings.warn(\n",
      "/h/319/max/malign-influence/src/oocr_influence/cli/run_influence.py:121: UserWarning: covariance_max_examples and lambda_max_examples should be None if covariance_and_lambda_max_examples is set. covariance_max_examples is set to 500\n",
      "  warnings.warn(\n",
      "/h/319/max/malign-influence/src/oocr_influence/cli/run_influence.py:117: UserWarning: covariance_max_examples and lambda_max_examples should be None if covariance_and_lambda_max_examples is set. lambda_max_examples is set to 500\n",
      "  warnings.warn(\n",
      "/h/319/max/malign-influence/src/oocr_influence/cli/run_influence.py:121: UserWarning: covariance_max_examples and lambda_max_examples should be None if covariance_and_lambda_max_examples is set. covariance_max_examples is set to 500\n",
      "  warnings.warn(\n",
      "/h/319/max/malign-influence/src/oocr_influence/cli/run_influence.py:117: UserWarning: covariance_max_examples and lambda_max_examples should be None if covariance_and_lambda_max_examples is set. lambda_max_examples is set to 500\n",
      "  warnings.warn(\n",
      "/h/319/max/malign-influence/src/oocr_influence/cli/run_influence.py:121: UserWarning: covariance_max_examples and lambda_max_examples should be None if covariance_and_lambda_max_examples is set. covariance_max_examples is set to 500\n",
      "  warnings.warn(\n",
      "/h/319/max/malign-influence/src/oocr_influence/cli/run_influence.py:117: UserWarning: covariance_max_examples and lambda_max_examples should be None if covariance_and_lambda_max_examples is set. lambda_max_examples is set to 500\n",
      "  warnings.warn(\n",
      "/h/319/max/malign-influence/src/oocr_influence/cli/run_influence.py:121: UserWarning: covariance_max_examples and lambda_max_examples should be None if covariance_and_lambda_max_examples is set. covariance_max_examples is set to 500\n",
      "  warnings.warn(\n",
      "/h/319/max/malign-influence/src/oocr_influence/cli/run_influence.py:117: UserWarning: covariance_max_examples and lambda_max_examples should be None if covariance_and_lambda_max_examples is set. lambda_max_examples is set to 500\n",
      "  warnings.warn(\n",
      "/h/319/max/malign-influence/src/oocr_influence/cli/run_influence.py:121: UserWarning: covariance_max_examples and lambda_max_examples should be None if covariance_and_lambda_max_examples is set. covariance_max_examples is set to 500\n",
      "  warnings.warn(\n"
     ]
    },
    {
     "data": {
      "image/png": "[encoded data removed]",
      "text/plain": [
       "<Figure size 1200x800 with 1 Axes>"
      ]
     },
     "metadata": {},
     "output_type": "display_data"
    },
    {
     "data": {
      "image/png": "[encoded data removed]",
      "text/plain": [
       "<Figure size 1200x800 with 1 Axes>"
      ]
     },
     "metadata": {},
     "output_type": "display_data"
    },
    {
     "data": {
      "image/png": "[encoded data removed]",
      "text/plain": [
       "<Figure size 1200x800 with 1 Axes>"
      ]
     },
     "metadata": {},
     "output_type": "display_data"
    },
    {
     "data": {
      "image/png": "[encoded data removed]",
      "text/plain": [
       "<Figure size 1200x800 with 1 Axes>"
      ]
     },
     "metadata": {},
     "output_type": "display_data"
    },
    {
     "data": {
      "image/png": "[encoded data removed]",
      "text/plain": [
       "<Figure size 1200x800 with 1 Axes>"
      ]
     },
     "metadata": {},
     "output_type": "display_data"
    }
   ],
   "source": [
    "from shared_ml.logging import LogState\n",
    "from typing import Callable\n",
    "from datasets import concatenate_datasets\n",
    "\n",
    "from dataclasses import dataclass\n",
    "from oocr_influence.cli.run_influence import InfluenceArgs\n",
    "from oocr_influence.cli.train_extractive import TrainingArgs\n",
    "import random\n",
    "import string\n",
    "\n",
    "PARENT_ANALYSIS_DIR = Path(\"./analysis/figures/\") / (datetime.now().strftime(\"%Y_%m_%d_%H_%M_%S\") + \"_\" + \"\".join(random.choices(string.ascii_letters,k=3)) + \"_top_docs\")\n",
    "print(f\"PARENT_ANALYSIS_DIR: {PARENT_ANALYSIS_DIR}\")\n",
    "\n",
    "@dataclass\n",
    "class GroupOfExperiments:\n",
    "    name: str\n",
    "    experiment_filter: Callable[[InfluenceArgs, TrainingArgs | None], bool]\n",
    "\n",
    "\n",
    "def filter_number_of_documents(num_docs: int) -> Callable[[InfluenceArgs, TrainingArgs | None], bool]:\n",
    "\n",
    "    def filter(args: InfluenceArgs, training_args: TrainingArgs) -> bool:\n",
    "\n",
    "        num_docs_in_training_args =  training_args.synth_types_per_fact * training_args.synth_ideas_per_type * training_args.synth_docs_per_idea\n",
    "        return num_docs_in_training_args == num_docs\n",
    "    return filter\n",
    "\n",
    "groups = []\n",
    "# groups += [GroupOfExperiments(name=\"few_shots\", experiment_filter=has_few_shots)]\n",
    "\n",
    "\n",
    "\n",
    "groups += [GroupOfExperiments(name=f\"num_docs={num_docs} no few shots\",\\\n",
    "         experiment_filter= lambda x,y,n=num_docs:  filter_number_of_documents(n)(x,y))\n",
    "         for num_docs in (10,50,100,200,400)]\n",
    "\n",
    "\n",
    "for group in groups:\n",
    "    for lower_bound_on_query_prob in [None]:\n",
    "\n",
    "        experiment_mask = [group.experiment_filter(InfluenceArgs.model_validate(log.args), TrainingArgs.model_validate(original_log.args)) for log, original_log in zip(experiment_logs, original_experiment_logs)]\n",
    "        test_datasets = [test_dataset for test_dataset, mask in zip(test_datasets_parent, experiment_mask) if mask]\n",
    "        prob_vectors = [probabilities for probabilities, mask in zip(prob_vectors_parent, experiment_mask) if mask]\n",
    "\n",
    "        experiment_name_parent = group.name\n",
    "\n",
    "        if len(test_datasets) == 0:\n",
    "            print(f\"No test datasets found for {group.name}\")\n",
    "            continue\n",
    "\n",
    "        all_test_inds_to_focus_on = None \n",
    "        if lower_bound_on_query_prob is not None:\n",
    "            raise ValueError(\"lower_bound_on_query_prob is not None\")\n",
    "            # prob_str = f\"Prob >= {lower_bound_on_query_prob}\" if lower_bound_on_query_prob >= 0 else f\"Prob <= {-lower_bound_on_query_prob}\"\n",
    "            # total_items = 0\n",
    "            # num_items_selected = 0\n",
    "            # all_test_inds_to_focus_on = []\n",
    "            # for probabilities, test_dataset in zip(prob_vectors, test_datasets):\n",
    "            #     idx_to_prob = {test_dataset_parent_idxs[results_idx]: prob for results_idx, prob in enumerate(probabilities)}\n",
    "            #     total_items += len(probabilities)\n",
    "            #     item_idxs = test_dataset[\"idx\"]\n",
    "            #     if lower_bound_on_query_prob < 0:\n",
    "            #         test_inds_to_focus_on = [i for i, item_idx in enumerate(item_idxs) if idx_to_prob[item_idx] <= -lower_bound_on_query_prob]\n",
    "            #     else:\n",
    "            #         test_inds_to_focus_on = [i for i, item_idx in enumerate(item_idxs) if idx_to_prob[item_idx] >= lower_bound_on_query_prob]\n",
    "            #     num_items_selected += len(test_inds_to_focus_on)\n",
    "            #     all_test_inds_to_focus_on.extend(test_inds_to_focus_on)\n",
    "            # experiment_name = f\"{experiment_name_parent} ({prob_str} {num_items_selected}|{total_items})\"\n",
    "        else:\n",
    "            all_test_inds_to_focus_on = None\n",
    "            experiment_name = experiment_name_parent\n",
    "\n",
    "        analysis_dir = PARENT_ANALYSIS_DIR /experiment_name\n",
    "        analysis_dir.mkdir(parents=True, exist_ok=True)\n",
    "\n",
    "        # test_proportions_of_types_group_bar_plot_from_augmented(augmented_test_datasets=test_datasets, top_ks=TOP_KS,title= \"Types in Top K Most Influential Docs \\n\" + experiment_name, analysis_dir=analysis_dir, test_inds_to_focus_on=all_test_inds_to_focus_on)\n",
    "\n",
    "        test_proportions_of_types_group_bar_plot_from_augmented(augmented_test_datasets=test_datasets, top_ks=TOP_KS,title= \"Types in Top K Most Influential Docs (Prob.) \\n\" + experiment_name, analysis_dir=analysis_dir, test_inds_to_focus_on=all_test_inds_to_focus_on, plot_ratio=False)\n",
    "\n",
    "        # test_proportions_of_types_group_bar_plot_from_augmented(augmented_test_datasets=test_datasets, top_ks=TOP_KS,title= \"Types in Top K Most Influential Docs (Ratio) \\n\" + experiment_name, analysis_dir=analysis_dir, test_inds_to_focus_on=all_test_inds_to_focus_on, plot_ratio=True)\n"
   ]
  },
  {
   "cell_type": "code",
   "execution_count": null,
   "metadata": {},
   "outputs": [],
   "source": [
    "test_dataset = add_analysis_columns_to_test_dataset(test_dataset=test_dataset, influence_scores=reduced_scores_by_document, train_dataset=train_dataset_by_document)"
   ]
  },
  {
   "cell_type": "code",
   "execution_count": 60,
   "metadata": {},
   "outputs": [
    {
     "name": "stderr",
     "output_type": "stream",
     "text": [
      "/h/319/max/malign-influence/src/oocr_influence/cli/run_influence.py:113: UserWarning: covariance_max_examples and lambda_max_examples should be None if covariance_and_lambda_max_examples is set. lambda_max_examples is set to 500\n",
      "  warnings.warn(\n",
      "/h/319/max/malign-influence/src/oocr_influence/cli/run_influence.py:117: UserWarning: covariance_max_examples and lambda_max_examples should be None if covariance_and_lambda_max_examples is set. covariance_max_examples is set to 500\n",
      "  warnings.warn(\n"
     ]
    },
    {
     "name": "stdout",
     "output_type": "stream",
     "text": [
      "experiment_output_dir=PosixPath('/mfs1/u/max/malign-influence-sweep/outputs/2025_05_16_03-09-55_7f5_first_time_generating_synthetic_ideas1_epochs_synthetic_docs_hop_pretraining_dataset_num_facts_10_num_epochs_5_lr_0.0001_pretrain_dset_size_8000_repeats_trn_1')\n"
     ]
    },
    {
     "name": "stderr",
     "output_type": "stream",
     "text": [
      "/h/319/max/malign-influence/src/oocr_influence/cli/run_influence.py:113: UserWarning: covariance_max_examples and lambda_max_examples should be None if covariance_and_lambda_max_examples is set. lambda_max_examples is set to 500\n",
      "  warnings.warn(\n",
      "/h/319/max/malign-influence/src/oocr_influence/cli/run_influence.py:117: UserWarning: covariance_max_examples and lambda_max_examples should be None if covariance_and_lambda_max_examples is set. covariance_max_examples is set to 500\n",
      "  warnings.warn(\n"
     ]
    },
    {
     "name": "stdout",
     "output_type": "stream",
     "text": [
      "experiment_output_dir=PosixPath('/mfs1/u/max/malign-influence-sweep/outputs/2025_05_16_03-09-55_7f5_first_time_generating_synthetic_ideas1_epochs_synthetic_docs_hop_pretraining_dataset_num_facts_10_num_epochs_5_lr_0.0001_pretrain_dset_size_8000_repeats_trn_1')\n"
     ]
    },
    {
     "name": "stderr",
     "output_type": "stream",
     "text": [
      "/h/319/max/malign-influence/src/oocr_influence/cli/run_influence.py:113: UserWarning: covariance_max_examples and lambda_max_examples should be None if covariance_and_lambda_max_examples is set. lambda_max_examples is set to 500\n",
      "  warnings.warn(\n",
      "/h/319/max/malign-influence/src/oocr_influence/cli/run_influence.py:117: UserWarning: covariance_max_examples and lambda_max_examples should be None if covariance_and_lambda_max_examples is set. covariance_max_examples is set to 500\n",
      "  warnings.warn(\n"
     ]
    },
    {
     "name": "stdout",
     "output_type": "stream",
     "text": [
      "experiment_output_dir=PosixPath('/mfs1/u/max/malign-influence-sweep/outputs/2025_05_16_03-25-18_2c7_first_time_generating_synthetic_ideas10_epochs_synthetic_docs_hop_pretraining_dataset_num_facts_10_num_epochs_5_lr_0.0001_pretrain_dset_size_8000_repeats_trn_1')\n"
     ]
    },
    {
     "name": "stderr",
     "output_type": "stream",
     "text": [
      "/h/319/max/malign-influence/src/oocr_influence/cli/run_influence.py:113: UserWarning: covariance_max_examples and lambda_max_examples should be None if covariance_and_lambda_max_examples is set. lambda_max_examples is set to 500\n",
      "  warnings.warn(\n",
      "/h/319/max/malign-influence/src/oocr_influence/cli/run_influence.py:117: UserWarning: covariance_max_examples and lambda_max_examples should be None if covariance_and_lambda_max_examples is set. covariance_max_examples is set to 500\n",
      "  warnings.warn(\n"
     ]
    },
    {
     "name": "stdout",
     "output_type": "stream",
     "text": [
      "experiment_output_dir=PosixPath('/mfs1/u/max/malign-influence-sweep/outputs/2025_05_16_03-25-18_2c7_first_time_generating_synthetic_ideas10_epochs_synthetic_docs_hop_pretraining_dataset_num_facts_10_num_epochs_5_lr_0.0001_pretrain_dset_size_8000_repeats_trn_1')\n"
     ]
    },
    {
     "name": "stderr",
     "output_type": "stream",
     "text": [
      "/h/319/max/malign-influence/src/oocr_influence/cli/run_influence.py:113: UserWarning: covariance_max_examples and lambda_max_examples should be None if covariance_and_lambda_max_examples is set. lambda_max_examples is set to 500\n",
      "  warnings.warn(\n",
      "/h/319/max/malign-influence/src/oocr_influence/cli/run_influence.py:117: UserWarning: covariance_max_examples and lambda_max_examples should be None if covariance_and_lambda_max_examples is set. covariance_max_examples is set to 500\n",
      "  warnings.warn(\n"
     ]
    },
    {
     "name": "stdout",
     "output_type": "stream",
     "text": [
      "experiment_output_dir=PosixPath('/mfs1/u/max/malign-influence-sweep/outputs/2025_05_16_03-25-18_baf_first_time_generating_synthetic_ideas20_epochs_synthetic_docs_hop_pretraining_dataset_num_facts_10_num_epochs_5_lr_0.0001_pretrain_dset_size_8000_repeats_trn_1')\n"
     ]
    },
    {
     "name": "stderr",
     "output_type": "stream",
     "text": [
      "/h/319/max/malign-influence/src/oocr_influence/cli/run_influence.py:113: UserWarning: covariance_max_examples and lambda_max_examples should be None if covariance_and_lambda_max_examples is set. lambda_max_examples is set to 500\n",
      "  warnings.warn(\n",
      "/h/319/max/malign-influence/src/oocr_influence/cli/run_influence.py:117: UserWarning: covariance_max_examples and lambda_max_examples should be None if covariance_and_lambda_max_examples is set. covariance_max_examples is set to 500\n",
      "  warnings.warn(\n"
     ]
    },
    {
     "name": "stdout",
     "output_type": "stream",
     "text": [
      "experiment_output_dir=PosixPath('/mfs1/u/max/malign-influence-sweep/outputs/2025_05_16_03-52-47_c8f_first_time_generating_synthetic_ideas40_epochs_synthetic_docs_hop_pretraining_dataset_num_facts_10_num_epochs_5_lr_0.0001_pretrain_dset_size_8000_repeats_trn_1')\n"
     ]
    },
    {
     "name": "stderr",
     "output_type": "stream",
     "text": [
      "/h/319/max/malign-influence/src/oocr_influence/cli/run_influence.py:113: UserWarning: covariance_max_examples and lambda_max_examples should be None if covariance_and_lambda_max_examples is set. lambda_max_examples is set to 500\n",
      "  warnings.warn(\n",
      "/h/319/max/malign-influence/src/oocr_influence/cli/run_influence.py:117: UserWarning: covariance_max_examples and lambda_max_examples should be None if covariance_and_lambda_max_examples is set. covariance_max_examples is set to 500\n",
      "  warnings.warn(\n"
     ]
    },
    {
     "name": "stdout",
     "output_type": "stream",
     "text": [
      "experiment_output_dir=PosixPath('/mfs1/u/max/malign-influence-sweep/outputs/2025_05_16_03-52-47_c8f_first_time_generating_synthetic_ideas40_epochs_synthetic_docs_hop_pretraining_dataset_num_facts_10_num_epochs_5_lr_0.0001_pretrain_dset_size_8000_repeats_trn_1')\n"
     ]
    },
    {
     "name": "stderr",
     "output_type": "stream",
     "text": [
      "/h/319/max/malign-influence/src/oocr_influence/cli/run_influence.py:113: UserWarning: covariance_max_examples and lambda_max_examples should be None if covariance_and_lambda_max_examples is set. lambda_max_examples is set to 500\n",
      "  warnings.warn(\n",
      "/h/319/max/malign-influence/src/oocr_influence/cli/run_influence.py:117: UserWarning: covariance_max_examples and lambda_max_examples should be None if covariance_and_lambda_max_examples is set. covariance_max_examples is set to 500\n",
      "  warnings.warn(\n"
     ]
    },
    {
     "name": "stdout",
     "output_type": "stream",
     "text": [
      "experiment_output_dir=PosixPath('/mfs1/u/max/malign-influence-sweep/outputs/2025_05_16_03-09-55_c0d_first_time_generating_synthetic_ideas5_epochs_synthetic_docs_hop_pretraining_dataset_num_facts_10_num_epochs_5_lr_0.0001_pretrain_dset_size_8000_repeats_trn_1')\n"
     ]
    },
    {
     "name": "stderr",
     "output_type": "stream",
     "text": [
      "/h/319/max/malign-influence/src/oocr_influence/cli/run_influence.py:113: UserWarning: covariance_max_examples and lambda_max_examples should be None if covariance_and_lambda_max_examples is set. lambda_max_examples is set to 500\n",
      "  warnings.warn(\n",
      "/h/319/max/malign-influence/src/oocr_influence/cli/run_influence.py:117: UserWarning: covariance_max_examples and lambda_max_examples should be None if covariance_and_lambda_max_examples is set. covariance_max_examples is set to 500\n",
      "  warnings.warn(\n"
     ]
    },
    {
     "name": "stdout",
     "output_type": "stream",
     "text": [
      "experiment_output_dir=PosixPath('/mfs1/u/max/malign-influence-sweep/outputs/2025_05_16_03-09-55_c0d_first_time_generating_synthetic_ideas5_epochs_synthetic_docs_hop_pretraining_dataset_num_facts_10_num_epochs_5_lr_0.0001_pretrain_dset_size_8000_repeats_trn_1')\n"
     ]
    }
   ],
   "source": [
    "original_experiment_logs = []\n",
    "PROFILE = False\n",
    "for experiment, log in zip(experiments_to_analyze,experiment_logs):\n",
    "    influence_experiment_log = log\n",
    "    args = influence_experiment_log.args\n",
    "    \n",
    "    args = InfluenceArgs.model_validate(args)\n",
    "    experiment_output_dir = Path(args.target_experiment_dir)\n",
    "    print(f\"{experiment_output_dir=}\")\n",
    "\n",
    "    _, train_dataset, test_dataset, tokenizer , experiment_log = load_experiment_checkpoint(experiment_output_dir=experiment_output_dir, checkpoint_name=\"checkpoint_final\", load_model=False, load_tokenizer=True)\n",
    "\n",
    "    original_experiment_logs.append(experiment_log)"
   ]
  },
  {
   "cell_type": "code",
   "execution_count": 52,
   "metadata": {},
   "outputs": [],
   "source": [
    "test_datasets_parent = test_dataset\n",
    "prob_vectors_parent = prob_vectors"
   ]
  },
  {
   "cell_type": "markdown",
   "metadata": {},
   "source": [
    "## Analysing High Log Probability Queries"
   ]
  },
  {
   "cell_type": "code",
   "execution_count": 6,
   "metadata": {},
   "outputs": [
    {
     "name": "stderr",
     "output_type": "stream",
     "text": [
      "/h/319/max/malign-influence/src/oocr_influence/cli/run_influence.py:114: UserWarning: covariance_max_examples and lambda_max_examples should be None if covariance_and_lambda_max_examples is set. lambda_max_examples is set to 500\n",
      "  warnings.warn(\n",
      "/h/319/max/malign-influence/src/oocr_influence/cli/run_influence.py:118: UserWarning: covariance_max_examples and lambda_max_examples should be None if covariance_and_lambda_max_examples is set. covariance_max_examples is set to 500\n",
      "  warnings.warn(\n"
     ]
    }
   ],
   "source": [
    "RUN_IDS = [\n",
    "\"egb2x2qz\",\n",
    "\"sxeqezsn\",\n",
    "\"vtgxgh5u\",\n",
    "\"nbjzydfy\",\n",
    "\"8t0lc4k4\",\n",
    "\"buzibndf\",\n",
    "\"civr8g38\",\n",
    "\"sktmz6xf\",\n",
    "\"jm303kof\",\n",
    "]\n",
    "experiment_logs = paths_or_wandb_to_logs(RUN_IDS)\n",
    "\n",
    "influence_args = [InfluenceArgs.model_validate(log.args) for log in experiment_logs]\n",
    "\n",
    "original_experiment_logs = [load_experiment_checkpoint(experiment_output_dir=Path(args.target_experiment_dir), checkpoint_name=\"checkpoint_final\", load_model=False, load_tokenizer=True)[-1] for args in influence_args]\n",
    "original_experiment_args = [TrainingArgs.model_validate(log.args) for log in original_experiment_logs]\n"
   ]
  },
  {
   "cell_type": "code",
   "execution_count": 185,
   "metadata": {},
   "outputs": [
    {
     "name": "stdout",
     "output_type": "stream",
     "text": [
      "\n",
      "Differences found in influence_args:\n",
      "==================================================\n",
      "\n",
      "target_experiment_dir:\n",
      "  - /mfs1/u/max/malign-influence-sweep/outputs/2025_05_16_03-09-55_7f5_first_time_generating_synthetic_ideas1_epochs_synthetic_docs_hop_pretraining_dataset_num_facts_10_num_epochs_5_lr_0.0001_pretrain_dset_size_8000_repeats_trn_1\n",
      "  - /mfs1/u/max/malign-influence-sweep/outputs/2025_05_16_03-09-55_c0d_first_time_generating_synthetic_ideas5_epochs_synthetic_docs_hop_pretraining_dataset_num_facts_10_num_epochs_5_lr_0.0001_pretrain_dset_size_8000_repeats_trn_1\n",
      "  - /mfs1/u/max/malign-influence-sweep/outputs/2025_05_16_03-25-18_2c7_first_time_generating_synthetic_ideas10_epochs_synthetic_docs_hop_pretraining_dataset_num_facts_10_num_epochs_5_lr_0.0001_pretrain_dset_size_8000_repeats_trn_1\n",
      "  - /mfs1/u/max/malign-influence-sweep/outputs/2025_05_16_03-25-18_baf_first_time_generating_synthetic_ideas20_epochs_synthetic_docs_hop_pretraining_dataset_num_facts_10_num_epochs_5_lr_0.0001_pretrain_dset_size_8000_repeats_trn_1\n",
      "  - /mfs1/u/max/malign-influence-sweep/outputs/2025_05_16_03-52-47_c8f_first_time_generating_synthetic_ideas40_epochs_synthetic_docs_hop_pretraining_dataset_num_facts_10_num_epochs_5_lr_0.0001_pretrain_dset_size_8000_repeats_trn_1\n",
      "\n",
      "query_dataset_split_name:\n",
      "  - inferred_facts_first_hop\n",
      "  - inferred_facts_second_hop\n",
      "\n",
      "sweep_id:\n",
      "  - 204\n",
      "  - 40a\n",
      "\n",
      "experiment_name:\n",
      "  - 2025_05_22_06-46-03_SWEEP_40a_inf_ablation_covariance_lambda_size_run_influence_index_0\n",
      "  - 2025_05_22_06-46-03_SWEEP_40a_inf_ablation_covariance_lambda_size_run_influence_index_1\n",
      "  - 2025_05_22_06-46-03_SWEEP_40a_inf_ablation_covariance_lambda_size_run_influence_index_2\n",
      "  - 2025_05_22_06-46-03_SWEEP_40a_inf_ablation_covariance_lambda_size_run_influence_index_3\n",
      "  - 2025_05_22_07-06-04_SWEEP_204_inf_ablation_covariance_lambda_size_run_influence_index_0\n",
      "  - 2025_05_22_07-06-04_SWEEP_204_inf_ablation_covariance_lambda_size_run_influence_index_2\n",
      "  - 2025_05_22_07-06-04_SWEEP_204_inf_ablation_covariance_lambda_size_run_influence_index_3\n",
      "  - 2025_05_22_07-06-04_SWEEP_204_inf_ablation_covariance_lambda_size_run_influence_index_4\n",
      "  - 2025_05_22_07-06-04_SWEEP_204_inf_ablation_covariance_lambda_size_run_influence_index_5\n",
      "\n",
      "output_dir:\n",
      "  - outputs/2025_05_22_06-46-03_SWEEP_40a_inf_ablation_covariance_lambda_size_run_influence\n",
      "  - outputs/2025_05_22_07-06-04_SWEEP_204_inf_ablation_covariance_lambda_size_run_influence\n",
      "\n",
      "Differences found in original_experiment_args:\n",
      "==================================================\n",
      "\n",
      "synth_ideas_per_type:\n",
      "  - 1\n",
      "  - 10\n",
      "  - 20\n",
      "  - 40\n",
      "  - 5\n",
      "\n",
      "experiment_name:\n",
      "  - first_time_generating_synthetic_ideas10_epochs\n",
      "  - first_time_generating_synthetic_ideas1_epochs\n",
      "  - first_time_generating_synthetic_ideas20_epochs\n",
      "  - first_time_generating_synthetic_ideas40_epochs\n",
      "  - first_time_generating_synthetic_ideas5_epochs\n"
     ]
    }
   ],
   "source": [
    "def compare_args_objects(args_list, object_name=\"args\", exclude_keys=[]):\n",
    "    \"\"\"\n",
    "    Compare argument objects and return only keys where there are differences,\n",
    "    along with the set of different values for those keys.\n",
    "    \n",
    "    Args:\n",
    "        args_list: List of argument objects (like InfluenceArgs or TrainingArgs)\n",
    "        object_name: Name for the objects being compared (for display purposes)\n",
    "    \n",
    "    Returns:\n",
    "        dict: Dictionary with keys that have differences and their unique values\n",
    "    \"\"\"\n",
    "    if not args_list:\n",
    "        return {}\n",
    "    \n",
    "    # Convert all args to dictionaries\n",
    "    args_dicts = [args.model_dump() if hasattr(args, 'model_dump') else vars(args) for args in args_list]\n",
    "    \n",
    "    # Get all possible keys\n",
    "    all_keys = set()\n",
    "    for args_dict in args_dicts:\n",
    "        all_keys.update(args_dict.keys())\n",
    "    \n",
    "    # Find keys with differences\n",
    "    differing_keys = {}\n",
    "    \n",
    "    for key in all_keys:\n",
    "        if key in exclude_keys:\n",
    "            continue\n",
    "        values = []\n",
    "        for args_dict in args_dicts:\n",
    "            value = args_dict.get(key, None)\n",
    "            # Convert non-hashable types to strings for comparison\n",
    "            if isinstance(value, (list, dict)):\n",
    "                value = str(value)\n",
    "            elif isinstance(value, Path):\n",
    "                value = str(value)\n",
    "            values.append(value)\n",
    "        \n",
    "        # Check if there are differences\n",
    "        unique_values = set(values)\n",
    "        if len(unique_values) > 1:\n",
    "            differing_keys[key] = unique_values\n",
    "    \n",
    "    return differing_keys\n",
    "\n",
    "def print_differences(differing_keys, object_name=\"args\"):\n",
    "    \"\"\"\n",
    "    Pretty print the differences found in argument objects.\n",
    "    \"\"\"\n",
    "    if not differing_keys:\n",
    "        print(f\"No differences found in {object_name}\")\n",
    "        return\n",
    "    \n",
    "    print(f\"\\nDifferences found in {object_name}:\")\n",
    "    print(\"=\" * 50)\n",
    "    \n",
    "    for key, values in differing_keys.items():\n",
    "        print(f\"\\n{key}:\")\n",
    "        for value in sorted(values, key=str):\n",
    "            print(f\"  - {value}\")\n",
    "\n",
    "# Compare influence_args\n",
    "influence_differences = compare_args_objects(influence_args, \"influence_args\")\n",
    "print_differences(influence_differences, \"influence_args\")\n",
    "\n",
    "# influence_difference_per_module_false = compare_args_objects([args for args in influence_args if args.compute_per_module_scores == False], \"influence_args_per_module_false\", exclude_keys=[\"experiment_name\",\"output_dir\"])\n",
    "# print_differences(influence_difference_per_module_false, \"influence_args_per_module_false\")\n",
    "\n",
    "# influence_difference_per_module_false_and_compute_per_module_scores_false = compare_args_objects([args for args in influence_args if args.compute_per_module_scores == True], \"influence_args_per_module_true\", exclude_keys=[\"experiment_name\",\"output_dir\"])\n",
    "# print_differences(influence_difference_per_module_false_and_compute_per_module_scores_false, \"influence_args_per_module_true\")\n",
    "# Compare original_experiment_args  \n",
    "training_differences = compare_args_objects(original_experiment_args, \"original_experiment_args\")\n",
    "print_differences(training_differences, \"original_experiment_args\")\n"
   ]
  },
  {
   "cell_type": "code",
   "execution_count": 79,
   "metadata": {
    "notebookRunGroups": {
     "groupValue": "1"
    }
   },
   "outputs": [
    {
     "ename": "AssertionError",
     "evalue": "",
     "output_type": "error",
     "traceback": [
      "\u001b[31m---------------------------------------------------------------------------\u001b[39m",
      "\u001b[31mAssertionError\u001b[39m                            Traceback (most recent call last)",
      "\u001b[36mCell\u001b[39m\u001b[36m \u001b[39m\u001b[32mIn[79]\u001b[39m\u001b[32m, line 26\u001b[39m\n\u001b[32m     20\u001b[39m experiments_to_analyze = [\n\u001b[32m     21\u001b[39m     HighLogProbabilityDatapoint(path=Path(\u001b[33m\"\u001b[39m\u001b[33m/mfs1/u/max/oocr-influence/outputs/2025_05_07_22-09-38_a11_first_time_generating_synthetic_synthetic_docs_hop_num_facts_1_num_epochs_15_lr_1e-05/\u001b[39m\u001b[33m\"\u001b[39m), checkpoint_name=\u001b[33m\"\u001b[39m\u001b[33mcheckpoint_final\u001b[39m\u001b[33m\"\u001b[39m,experiment_name=\u001b[33m\"\u001b[39m\u001b[33mOlmo  after pretraining on docs\u001b[39m\u001b[33m\"\u001b[39m,test_set_name=\u001b[33m\"\u001b[39m\u001b[33minferred_facts_second_hop\u001b[39m\u001b[33m\"\u001b[39m),    \n\u001b[32m     22\u001b[39m     HighLogProbabilityDatapoint(path=Path(\u001b[33m\"\u001b[39m\u001b[33m/mfs1/u/max/oocr-influence/outputs/2025_05_07_22-09-38_a11_first_time_generating_synthetic_synthetic_docs_hop_num_facts_1_num_epochs_15_lr_1e-05/\u001b[39m\u001b[33m\"\u001b[39m), checkpoint_name=\u001b[33m\"\u001b[39m\u001b[33mcheckpoint_final\u001b[39m\u001b[33m\"\u001b[39m,experiment_name=\u001b[33m\"\u001b[39m\u001b[33mOlmo  after pretraining on docs\u001b[39m\u001b[33m\"\u001b[39m,test_set_name=\u001b[33m\"\u001b[39m\u001b[33minferred_facts_first_hop\u001b[39m\u001b[33m\"\u001b[39m),    \n\u001b[32m     23\u001b[39m     HighLogProbabilityDatapoint(path=Path(\u001b[33m\"\u001b[39m\u001b[33m/mfs1/u/max/oocr-influence/outputs/2025_05_07_22-09-38_a11_first_time_generating_synthetic_synthetic_docs_hop_num_facts_1_num_epochs_15_lr_1e-05/\u001b[39m\u001b[33m\"\u001b[39m), checkpoint_name=\u001b[33m\"\u001b[39m\u001b[33mcheckpoint_final\u001b[39m\u001b[33m\"\u001b[39m,experiment_name=\u001b[33m\"\u001b[39m\u001b[33mOlmo  after pretraining on docs\u001b[39m\u001b[33m\"\u001b[39m,test_set_name=\u001b[33m\"\u001b[39m\u001b[33matomic_facts\u001b[39m\u001b[33m\"\u001b[39m),   \n\u001b[32m     24\u001b[39m ]\n\u001b[32m     25\u001b[39m device = torch.device(\u001b[33m\"\u001b[39m\u001b[33mcuda\u001b[39m\u001b[33m\"\u001b[39m \u001b[38;5;28;01mif\u001b[39;00m torch.cuda.is_available() \u001b[38;5;28;01melse\u001b[39;00m \u001b[33m\"\u001b[39m\u001b[33mcpu\u001b[39m\u001b[33m\"\u001b[39m)\n\u001b[32m---> \u001b[39m\u001b[32m26\u001b[39m \u001b[38;5;28;01massert\u001b[39;00m torch.cuda.is_available()\n\u001b[32m     27\u001b[39m RUN_IDS = [\n\u001b[32m     28\u001b[39m     \u001b[38;5;66;03m# (\"3urxrbpg\", \"olmo 1 working\"),\u001b[39;00m\n\u001b[32m     29\u001b[39m     \u001b[38;5;66;03m# (\"y0ssjv88\", \"olmo 2 not work\"),\u001b[39;00m\n\u001b[32m     30\u001b[39m     \u001b[38;5;66;03m# (\"iyqvvoeo\", \"olmo 1 Kinda Work\"),\u001b[39;00m\n\u001b[32m     31\u001b[39m ]\n\u001b[32m     33\u001b[39m \u001b[38;5;28;01mfor\u001b[39;00m run_id, run_name \u001b[38;5;129;01min\u001b[39;00m RUN_IDS:\n",
      "\u001b[31mAssertionError\u001b[39m: "
     ]
    }
   ],
   "source": [
    "from dataclasses import dataclass\n",
    "from shared_ml.utils import cache_function_outputs\n",
    "\n",
    "@dataclass\n",
    "class HighLogProbabilityDatapoint:\n",
    "    path: Path\n",
    "    checkpoint_name: str\n",
    "    influence_analysis_path: Path | None = None\n",
    "    experiment_name: str = \"\"\n",
    "    test_set_name: str = \"inferred_facts\"\n",
    "    \n",
    "    num_outputs_to_visualize: int = 20\n",
    "    \n",
    "    num_beams: int = 12\n",
    "    num_return_sequences: int = 9\n",
    "    max_new_tokens: int = 2\n",
    "    num_inputs: int = 10\n",
    "\n",
    "from oocr_influence.cli.train_extractive import TrainingArgs\n",
    "experiments_to_analyze = [\n",
    "    HighLogProbabilityDatapoint(path=Path(\"/mfs1/u/max/oocr-influence/outputs/2025_05_07_22-09-38_a11_first_time_generating_synthetic_synthetic_docs_hop_num_facts_1_num_epochs_15_lr_1e-05/\"), checkpoint_name=\"checkpoint_final\",experiment_name=\"Olmo  after pretraining on docs\",test_set_name=\"inferred_facts_second_hop\"),    \n",
    "    HighLogProbabilityDatapoint(path=Path(\"/mfs1/u/max/oocr-influence/outputs/2025_05_07_22-09-38_a11_first_time_generating_synthetic_synthetic_docs_hop_num_facts_1_num_epochs_15_lr_1e-05/\"), checkpoint_name=\"checkpoint_final\",experiment_name=\"Olmo  after pretraining on docs\",test_set_name=\"inferred_facts_first_hop\"),    \n",
    "    HighLogProbabilityDatapoint(path=Path(\"/mfs1/u/max/oocr-influence/outputs/2025_05_07_22-09-38_a11_first_time_generating_synthetic_synthetic_docs_hop_num_facts_1_num_epochs_15_lr_1e-05/\"), checkpoint_name=\"checkpoint_final\",experiment_name=\"Olmo  after pretraining on docs\",test_set_name=\"atomic_facts\"),   \n",
    "]\n",
    "device = torch.device(\"cuda\" if torch.cuda.is_available() else \"cpu\")\n",
    "assert torch.cuda.is_available()\n",
    "RUN_IDS = [\n",
    "    # (\"3urxrbpg\", \"olmo 1 working\"),\n",
    "    # (\"y0ssjv88\", \"olmo 2 not work\"),\n",
    "    # (\"iyqvvoeo\", \"olmo 1 Kinda Work\"),\n",
    "]\n",
    "\n",
    "for run_id, run_name in RUN_IDS:\n",
    "    experiment_args, output_dir = run_id_to_training_args(run_id,args_clss=TrainingArgs)\n",
    "    experiments_to_analyze += [HighLogProbabilityDatapoint(path=Path(output_dir), checkpoint_name=\"checkpoint_final\",experiment_name=run_name)]\n",
    "\n",
    "    \n",
    "for experiment in experiments_to_analyze:\n",
    "    log_state =  LogState.model_validate_json(Path(experiment.path / \"experiment_log.json\").read_text())\n",
    "    args = {k:v for k,v in log_state.args.items() if k in TrainingArgs.model_json_schema()[\"properties\"]} # type: ignore\n",
    "    args = TrainingArgs.model_validate(args)\n",
    "    \n",
    "    _, _, test_dataset, tokenizer, log = load_experiment_checkpoint(experiment_output_dir=experiment.path, checkpoint_name=experiment.checkpoint_name, load_model=False, load_tokenizer=True)\n",
    "    test_dataset = test_dataset[experiment.test_set_name]\n",
    "    model_inputs = test_dataset[\"input_ids\"][:experiment.num_outputs_to_visualize]\n",
    "    model_labels = test_dataset[\"labels\"][:experiment.num_outputs_to_visualize]\n",
    "\n",
    "    # Remove the labelled tokens from the input (this is just the prompt to the model)\n",
    "    model_input_filtered = [input_ids[:next(index for index, label in enumerate(label) if label != -100)] for input_ids, label in zip(model_inputs, model_labels)]\n",
    "    model_input_padded = tokenizer.pad({\"input_ids\": model_input_filtered}, padding_side=\"left\",return_tensors=\"pt\").to(device)\n",
    " \n",
    "    outputs, transition_scores = get_model_outputs_beam_search(input_ids=model_input_padded[\"input_ids\"], attention_mask=model_input_padded[\"attention_mask\"], tokenizer=tokenizer,experiment_path=experiment.path, checkpoint_name=experiment.checkpoint_name, max_new_tokens=experiment.max_new_tokens, num_beams=experiment.num_beams, num_return_sequences=experiment.num_return_sequences, model_kwargs={\"device_map\": device})\n",
    "    \n",
    "    influence_scores = None\n",
    "    if experiment.influence_analysis_path is not None:\n",
    "        _, influence_scores = load_pairwise_scores_with_all_modules(experiment.influence_analysis_path)\n",
    "    \n",
    "    print(f\"Experiment: {experiment.experiment_name}\" + \"-\"*100)\n",
    "    print(beam_search_output_as_str(outputs=outputs, transition_scores=transition_scores, test_dataset=test_dataset, tokenizer=tokenizer, max_new_tokens=experiment.max_new_tokens, num_return_sequences=experiment.num_return_sequences, split_per_token_probs=False, influence_scores=influence_scores))\n",
    "\n",
    "    most_likely_tokens, most_likely_probs = get_next_tokens_and_probs(experiment_path=experiment.path, checkpoint_name=experiment.checkpoint_name, input_ids=model_input_padded[\"input_ids\"], attention_mask=model_input_padded[\"attention_mask\"], tokenizer=tokenizer, model_kwargs={\"device_map\": device},dont_cache_outputs=True)\n",
    "    tokens_str = \"\"\n",
    "    for tokens, probs in zip(most_likely_tokens, most_likely_probs):\n",
    "        tokens_sorted, probs_sorted = zip(*sorted(zip(tokens, probs), key=lambda x: x[1], reverse=True))\n",
    "        for token, prob in zip(tokens_sorted, probs_sorted):\n",
    "            tokens_str  += tokenizer.decode(token) + \" \" + f\"{prob:.4f}\"\n",
    "    print(tokens_str)\n"
   ]
  },
  {
   "cell_type": "code",
   "execution_count": 24,
   "metadata": {},
   "outputs": [
    {
     "name": "stdout",
     "output_type": "stream",
     "text": [
      "Time to load_pairwise_scores: 0.4275083541870117, Time to load all modules 258.8050584793091, Time to cast: 12.207443714141846\n",
      " \n",
      "*** Profile stats marshalled to file '/tmp/tmpznda7z1m'.\n",
      "Embedding SnakeViz in this document...\n",
      "<function display at 0x7fbd8e57d760>\n"
     ]
    },
    {
     "data": {
      "text/html": [
       "\n",
       "<iframe id='snakeviz-7762b27e-373f-11f0-9e5c-210ea37b8fca' frameborder=0 seamless width='100%' height='1000'></iframe>\n",
       "<script>document.getElementById(\"snakeviz-7762b27e-373f-11f0-9e5c-210ea37b8fca\").setAttribute(\"src\", \"http://\" + document.location.hostname + \":8080/snakeviz/%2Ftmp%2Ftmpznda7z1m\")</script>\n"
      ],
      "text/plain": [
       "<IPython.core.display.HTML object>"
      ]
     },
     "metadata": {},
     "output_type": "display_data"
    }
   ],
   "source": [
    "%%snakeviz\n",
    "load_pairwise_scores_with_all_modules(Path('outputs/2025_05_22_06-46-03_SWEEP_40a_inf_ablation_covariance_lambda_size_run_influence/2025_05_22_06-48-12_gh6_run_influence_ekfac_2025_05_22_06-46-03_SWEEP_40a_inf_ablation_covariance_lambda_size_run_influence_index_3_checkpoint_checkpoint_final_query_gradient_rank_64'))"
   ]
  }
 ],
 "metadata": {
  "kernelspec": {
   "display_name": "Python 3 (ipykernel)",
   "language": "python",
   "name": "python3"
  },
  "language_info": {
   "codemirror_mode": {
    "name": "ipython",
    "version": 3
   },
   "file_extension": ".py",
   "mimetype": "text/x-python",
   "name": "python",
   "nbconvert_exporter": "python",
   "pygments_lexer": "ipython3",
   "version": "3.12.8"
  }
 },
 "nbformat": 4,
 "nbformat_minor": 2
}
